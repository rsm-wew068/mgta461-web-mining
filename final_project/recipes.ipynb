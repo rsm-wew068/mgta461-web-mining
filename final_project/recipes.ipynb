{
 "cells": [
  {
   "cell_type": "code",
   "execution_count": 19,
   "metadata": {},
   "outputs": [],
   "source": [
    "import pandas as pd\n",
    "\n",
    "recipesDF = pd.read_csv(\"recipes dataset/RAW_recipes.csv\")\n",
    "interactionsDF = pd.read_csv(\"recipes dataset/RAW_interactions.csv\")    "
   ]
  },
  {
   "cell_type": "code",
   "execution_count": 2,
   "metadata": {},
   "outputs": [],
   "source": [
    "import json\n",
    "import gzip\n",
    "\n",
    "def writeJSON(filename, data):\n",
    "    with open(filename, 'w') as f:\n",
    "        json.dump(data, f)\n",
    "def loadJSON(filename):\n",
    "    with open(filename, 'r') as f:\n",
    "        return json.load(f)\n"
   ]
  },
  {
   "cell_type": "markdown",
   "metadata": {},
   "source": [
    "# load ratings, train, test, valid (80,10,10)"
   ]
  },
  {
   "cell_type": "code",
   "execution_count": 3,
   "metadata": {},
   "outputs": [],
   "source": [
    "all_ratings = []\n",
    "with open('processed_ratings.csv', 'r') as f:\n",
    "    for line in f:\n",
    "        all_ratings.append(line.strip().split(','))\n",
    "        \n",
    "all_ratings = all_ratings[1:]\n",
    "ratings_train = all_ratings[:int(0.8*len(all_ratings))]\n",
    "ratings_test = all_ratings[int(0.8*len(all_ratings)):int(0.9*len(all_ratings))]\n",
    "ratings_valid = all_ratings[int(0.9*len(all_ratings)):]\n"
   ]
  },
  {
   "cell_type": "markdown",
   "metadata": {},
   "source": [
    "# Load data structures"
   ]
  },
  {
   "cell_type": "code",
   "execution_count": 4,
   "metadata": {},
   "outputs": [],
   "source": [
    "recipe_id_to_name = loadJSON(\"./data structures/recipe_id_to_name.json\")\n",
    "recipe_id_to_ingredients = loadJSON(\"./data structures/recipe_id_to_ingredients.json\")\n",
    "ratings_per_user = loadJSON(\"./data structures/ratings_per_user.json\")\n",
    "ratings_per_recipe = loadJSON(\"./data structures/ratings_per_recipe.json\")\n",
    "rating_date_per_user = loadJSON(\"./data structures/rating_date_per_user.json\")\n",
    "global_avg_rating = interactionsDF['rating'].mean()\n"
   ]
  },
  {
   "cell_type": "markdown",
   "metadata": {},
   "source": [
    "# What I did to load data structures (darren)"
   ]
  },
  {
   "cell_type": "code",
   "execution_count": 29,
   "metadata": {},
   "outputs": [],
   "source": [
    "import ast \n",
    "recipe_id_to_ingredients = {}\n",
    "for i, row in recipesDF.iterrows():\n",
    "    ingredients = row['ingredients']\n",
    "    ingredientsList = ast.literal_eval(ingredients)\n",
    "    recipe_id = row['id']\n",
    "    recipe_id_to_ingredients[recipe_id] = ingredientsList\n",
    "writeJSON(\"./data structures/recipe_id_to_ingredients.json\", recipe_id_to_ingredients)"
   ]
  },
  {
   "cell_type": "code",
   "execution_count": 16,
   "metadata": {},
   "outputs": [],
   "source": [
    "from collections import defaultdict\n",
    "ratings_per_user = defaultdict(dict)\n",
    "ratings_per_recipe = defaultdict(dict)\n",
    "for index, row in interactionsDF.iterrows():\n",
    "    user = row['user_id']\n",
    "    recipe = row['recipe_id']\n",
    "    rating = row['rating']\n",
    "    ratings_per_user[user][recipe] = rating\n",
    "    ratings_per_recipe[recipe][user] = rating\n",
    "writeJSON(\"./data structures/ratings_per_user.json\", ratings_per_user)\n",
    "writeJSON(\"./data structures/ratings_per_recipe.json\", ratings_per_recipe)\n",
    "\n",
    "    \n"
   ]
  },
  {
   "cell_type": "code",
   "execution_count": 22,
   "metadata": {},
   "outputs": [],
   "source": [
    "rating_date_per_user = defaultdict(dict)\n",
    "for index, row in interactionsDF.iterrows():\n",
    "    user = row['user_id']\n",
    "    recipe = row['recipe_id']\n",
    "    date = row['date']\n",
    "    rating_date_per_user[user][recipe] = date\n",
    "writeJSON(\"./data structures/rating_date_per_user.json\", rating_date_per_user)"
   ]
  },
  {
   "cell_type": "markdown",
   "metadata": {},
   "source": [
    "# User bias rating method (from homework 3)\n"
   ]
  },
  {
   "cell_type": "code",
   "execution_count": 30,
   "metadata": {},
   "outputs": [],
   "source": [
    "betaU = {}\n",
    "betaR = {}\n",
    "for u in ratings_per_user:\n",
    "    betaU[u] = 0\n",
    "\n",
    "for r in ratings_per_recipe:\n",
    "    betaR[r] = 0"
   ]
  },
  {
   "cell_type": "code",
   "execution_count": 31,
   "metadata": {},
   "outputs": [],
   "source": [
    "alpha = global_avg_rating"
   ]
  },
  {
   "cell_type": "code",
   "execution_count": null,
   "metadata": {},
   "outputs": [],
   "source": [
    "def iterate(lamb):\n",
    "    newAlpha = 0\n",
    "    for u,b,r in ratings_train:\n",
    "        newAlpha += r - (betaU[u] + betaR[b])\n",
    "    alpha = newAlpha / len(ratings_train)\n",
    "    for u in ratings_per_user:\n",
    "        newBetaU = 0\n",
    "        for b,r in ratings_per_user[u]:\n",
    "            newBetaU += r - (alpha + betaR[b])\n",
    "        betaU[u] = newBetaU / (lamb + len(ratings_per_user[u]))\n",
    "    for b in ratings_per_recipe:\n",
    "        newbetaR = 0\n",
    "        for u,r in ratings_per_recipe[b]:\n",
    "            newbetaR += r - (alpha + betaU[u])\n",
    "        betaR[b] = newbetaR / (lamb + len(ratings_per_recipe[b]))\n",
    "    mse = 0\n",
    "    for u,b,r in ratings_train:\n",
    "        prediction = alpha + betaU[u] + betaR[b]\n",
    "        mse += (r - prediction)**2\n",
    "    regularizer = 0\n",
    "    for u in betaU:\n",
    "        regularizer += betaU[u]**2\n",
    "    for b in betaR:\n",
    "        regularizer += betaR[b]**2\n",
    "    mse /= len(ratings_train)\n",
    "    return mse, mse + lamb*regularizer"
   ]
  },
  {
   "cell_type": "markdown",
   "metadata": {},
   "source": [
    "# Rachel"
   ]
  },
  {
   "cell_type": "markdown",
   "metadata": {},
   "source": [
    "# SVD (Cuisine)"
   ]
  },
  {
   "cell_type": "code",
   "execution_count": null,
   "metadata": {},
   "outputs": [
    {
     "ename": "",
     "evalue": "",
     "output_type": "error",
     "traceback": [
      "\u001b[1;31mRunning cells with 'Python 3.12.7' requires the ipykernel package.\n",
      "\u001b[1;31mRun the following command to install 'ipykernel' into the Python environment. \n",
      "\u001b[1;31mCommand: '/usr/bin/python3 -m pip install ipykernel -U --user --force-reinstall'"
     ]
    }
   ],
   "source": [
    "import pandas as pd\n",
    "from surprise import Dataset, Reader, SVD\n",
    "from surprise.model_selection import train_test_split\n",
    "from sklearn.preprocessing import LabelEncoder\n",
    "from sklearn.metrics import classification_report, accuracy_score\n",
    "import numpy as np"
   ]
  },
  {
   "cell_type": "code",
   "execution_count": null,
   "metadata": {},
   "outputs": [],
   "source": [
    "# Load datasets\n",
    "recipesDF = pd.read_csv(\"RAW_recipes.csv\")\n",
    "interactionsDF = pd.read_csv(\"RAW_interactions.csv\")\n",
    "\n",
    "# Add 'cuisine' column (assume it's derived from tags or directly available)\n",
    "recipesDF['cuisine'] = recipesDF['tags'].apply(lambda x: 'italian' if 'italian' in x else 'other')\n",
    "\n",
    "# Merge interactions with recipes\n",
    "recipesDF = recipesDF.rename(columns={'id': 'i'})\n",
    "interactionsDF = interactionsDF.rename(columns={'user_id': 'u', 'recipe_id': 'i'})\n",
    "merged_df = pd.merge(interactionsDF, recipesDF, on=\"i\")\n",
    "\n",
    "# Encode cuisines as integers for SVD\n",
    "label_encoder = LabelEncoder()\n",
    "merged_df['cuisine_encoded'] = label_encoder.fit_transform(merged_df['cuisine'])\n",
    "\n",
    "# Prepare data for Surprise\n",
    "reader = Reader(rating_scale=(0, len(label_encoder.classes_) - 1))\n",
    "data = Dataset.load_from_df(merged_df[['u', 'i', 'cuisine_encoded']], reader)"
   ]
  },
  {
   "cell_type": "markdown",
   "metadata": {},
   "source": [
    "## Akshay "
   ]
  },
  {
   "cell_type": "markdown",
   "metadata": {},
   "source": [
    "## RFC Classifier for Cuisines"
   ]
  },
  {
   "cell_type": "code",
   "execution_count": 21,
   "metadata": {},
   "outputs": [],
   "source": [
    "from sklearn.model_selection import train_test_split\n",
    "import re\n",
    "from collections import Counter\n",
    "from sklearn.ensemble import RandomForestClassifier\n",
    "from sklearn.feature_extraction.text import TfidfVectorizer\n",
    "import pandas as pd\n",
    "import ast\n",
    "from sklearn.metrics import accuracy_score\n",
    "import matplotlib.pyplot as plt"
   ]
  },
  {
   "cell_type": "code",
   "execution_count": 15,
   "metadata": {},
   "outputs": [
    {
     "data": {
      "text/html": [
       "<div>\n",
       "<style scoped>\n",
       "    .dataframe tbody tr th:only-of-type {\n",
       "        vertical-align: middle;\n",
       "    }\n",
       "\n",
       "    .dataframe tbody tr th {\n",
       "        vertical-align: top;\n",
       "    }\n",
       "\n",
       "    .dataframe thead th {\n",
       "        text-align: right;\n",
       "    }\n",
       "</style>\n",
       "<table border=\"1\" class=\"dataframe\">\n",
       "  <thead>\n",
       "    <tr style=\"text-align: right;\">\n",
       "      <th></th>\n",
       "      <th>name</th>\n",
       "      <th>id</th>\n",
       "      <th>minutes</th>\n",
       "      <th>contributor_id</th>\n",
       "      <th>submitted</th>\n",
       "      <th>tags</th>\n",
       "      <th>nutrition</th>\n",
       "      <th>n_steps</th>\n",
       "      <th>steps</th>\n",
       "      <th>description</th>\n",
       "      <th>ingredients</th>\n",
       "      <th>n_ingredients</th>\n",
       "    </tr>\n",
       "  </thead>\n",
       "  <tbody>\n",
       "    <tr>\n",
       "      <th>0</th>\n",
       "      <td>arriba   baked winter squash mexican style</td>\n",
       "      <td>137739</td>\n",
       "      <td>55</td>\n",
       "      <td>47892</td>\n",
       "      <td>2005-09-16</td>\n",
       "      <td>['60-minutes-or-less', 'time-to-make', 'course...</td>\n",
       "      <td>[51.5, 0.0, 13.0, 0.0, 2.0, 0.0, 4.0]</td>\n",
       "      <td>11</td>\n",
       "      <td>['make a choice and proceed with recipe', 'dep...</td>\n",
       "      <td>autumn is my favorite time of year to cook! th...</td>\n",
       "      <td>[winter squash, mexican seasoning, mixed spice...</td>\n",
       "      <td>7</td>\n",
       "    </tr>\n",
       "    <tr>\n",
       "      <th>1</th>\n",
       "      <td>a bit different  breakfast pizza</td>\n",
       "      <td>31490</td>\n",
       "      <td>30</td>\n",
       "      <td>26278</td>\n",
       "      <td>2002-06-17</td>\n",
       "      <td>['30-minutes-or-less', 'time-to-make', 'course...</td>\n",
       "      <td>[173.4, 18.0, 0.0, 17.0, 22.0, 35.0, 1.0]</td>\n",
       "      <td>9</td>\n",
       "      <td>['preheat oven to 425 degrees f', 'press dough...</td>\n",
       "      <td>this recipe calls for the crust to be prebaked...</td>\n",
       "      <td>[prepared pizza crust, sausage patty, eggs, mi...</td>\n",
       "      <td>6</td>\n",
       "    </tr>\n",
       "    <tr>\n",
       "      <th>2</th>\n",
       "      <td>all in the kitchen  chili</td>\n",
       "      <td>112140</td>\n",
       "      <td>130</td>\n",
       "      <td>196586</td>\n",
       "      <td>2005-02-25</td>\n",
       "      <td>['time-to-make', 'course', 'preparation', 'mai...</td>\n",
       "      <td>[269.8, 22.0, 32.0, 48.0, 39.0, 27.0, 5.0]</td>\n",
       "      <td>6</td>\n",
       "      <td>['brown ground beef in large pot', 'add choppe...</td>\n",
       "      <td>this modified version of 'mom's' chili was a h...</td>\n",
       "      <td>[ground beef, yellow onions, diced tomatoes, t...</td>\n",
       "      <td>13</td>\n",
       "    </tr>\n",
       "    <tr>\n",
       "      <th>3</th>\n",
       "      <td>alouette  potatoes</td>\n",
       "      <td>59389</td>\n",
       "      <td>45</td>\n",
       "      <td>68585</td>\n",
       "      <td>2003-04-14</td>\n",
       "      <td>['60-minutes-or-less', 'time-to-make', 'course...</td>\n",
       "      <td>[368.1, 17.0, 10.0, 2.0, 14.0, 8.0, 20.0]</td>\n",
       "      <td>11</td>\n",
       "      <td>['place potatoes in a large pot of lightly sal...</td>\n",
       "      <td>this is a super easy, great tasting, make ahea...</td>\n",
       "      <td>[spreadable cheese with garlic and herbs, new ...</td>\n",
       "      <td>11</td>\n",
       "    </tr>\n",
       "    <tr>\n",
       "      <th>4</th>\n",
       "      <td>amish  tomato ketchup  for canning</td>\n",
       "      <td>44061</td>\n",
       "      <td>190</td>\n",
       "      <td>41706</td>\n",
       "      <td>2002-10-25</td>\n",
       "      <td>['weeknight', 'time-to-make', 'course', 'main-...</td>\n",
       "      <td>[352.9, 1.0, 337.0, 23.0, 3.0, 0.0, 28.0]</td>\n",
       "      <td>5</td>\n",
       "      <td>['mix all ingredients&amp; boil for 2 1 / 2 hours ...</td>\n",
       "      <td>my dh's amish mother raised him on this recipe...</td>\n",
       "      <td>[tomato juice, apple cider vinegar, sugar, sal...</td>\n",
       "      <td>8</td>\n",
       "    </tr>\n",
       "  </tbody>\n",
       "</table>\n",
       "</div>"
      ],
      "text/plain": [
       "                                         name      id  minutes  \\\n",
       "0  arriba   baked winter squash mexican style  137739       55   \n",
       "1            a bit different  breakfast pizza   31490       30   \n",
       "2                   all in the kitchen  chili  112140      130   \n",
       "3                          alouette  potatoes   59389       45   \n",
       "4          amish  tomato ketchup  for canning   44061      190   \n",
       "\n",
       "   contributor_id   submitted  \\\n",
       "0           47892  2005-09-16   \n",
       "1           26278  2002-06-17   \n",
       "2          196586  2005-02-25   \n",
       "3           68585  2003-04-14   \n",
       "4           41706  2002-10-25   \n",
       "\n",
       "                                                tags  \\\n",
       "0  ['60-minutes-or-less', 'time-to-make', 'course...   \n",
       "1  ['30-minutes-or-less', 'time-to-make', 'course...   \n",
       "2  ['time-to-make', 'course', 'preparation', 'mai...   \n",
       "3  ['60-minutes-or-less', 'time-to-make', 'course...   \n",
       "4  ['weeknight', 'time-to-make', 'course', 'main-...   \n",
       "\n",
       "                                    nutrition  n_steps  \\\n",
       "0       [51.5, 0.0, 13.0, 0.0, 2.0, 0.0, 4.0]       11   \n",
       "1   [173.4, 18.0, 0.0, 17.0, 22.0, 35.0, 1.0]        9   \n",
       "2  [269.8, 22.0, 32.0, 48.0, 39.0, 27.0, 5.0]        6   \n",
       "3   [368.1, 17.0, 10.0, 2.0, 14.0, 8.0, 20.0]       11   \n",
       "4   [352.9, 1.0, 337.0, 23.0, 3.0, 0.0, 28.0]        5   \n",
       "\n",
       "                                               steps  \\\n",
       "0  ['make a choice and proceed with recipe', 'dep...   \n",
       "1  ['preheat oven to 425 degrees f', 'press dough...   \n",
       "2  ['brown ground beef in large pot', 'add choppe...   \n",
       "3  ['place potatoes in a large pot of lightly sal...   \n",
       "4  ['mix all ingredients& boil for 2 1 / 2 hours ...   \n",
       "\n",
       "                                         description  \\\n",
       "0  autumn is my favorite time of year to cook! th...   \n",
       "1  this recipe calls for the crust to be prebaked...   \n",
       "2  this modified version of 'mom's' chili was a h...   \n",
       "3  this is a super easy, great tasting, make ahea...   \n",
       "4  my dh's amish mother raised him on this recipe...   \n",
       "\n",
       "                                         ingredients  n_ingredients  \n",
       "0  [winter squash, mexican seasoning, mixed spice...              7  \n",
       "1  [prepared pizza crust, sausage patty, eggs, mi...              6  \n",
       "2  [ground beef, yellow onions, diced tomatoes, t...             13  \n",
       "3  [spreadable cheese with garlic and herbs, new ...             11  \n",
       "4  [tomato juice, apple cider vinegar, sugar, sal...              8  "
      ]
     },
     "execution_count": 15,
     "metadata": {},
     "output_type": "execute_result"
    }
   ],
   "source": [
    "labeled_recipes = pd.read_csv(\"recipes dataset/RAW_recipes.csv\")\n",
    "labeled_recipes[\"ingredients\"] = labeled_recipes[\"ingredients\"].apply(ast.literal_eval)\n",
    "labeled_recipes.head()"
   ]
  },
  {
   "cell_type": "code",
   "execution_count": 16,
   "metadata": {},
   "outputs": [
    {
     "data": {
      "text/html": [
       "<div>\n",
       "<style scoped>\n",
       "    .dataframe tbody tr th:only-of-type {\n",
       "        vertical-align: middle;\n",
       "    }\n",
       "\n",
       "    .dataframe tbody tr th {\n",
       "        vertical-align: top;\n",
       "    }\n",
       "\n",
       "    .dataframe thead th {\n",
       "        text-align: right;\n",
       "    }\n",
       "</style>\n",
       "<table border=\"1\" class=\"dataframe\">\n",
       "  <thead>\n",
       "    <tr style=\"text-align: right;\">\n",
       "      <th></th>\n",
       "      <th>name</th>\n",
       "      <th>id</th>\n",
       "      <th>minutes</th>\n",
       "      <th>contributor_id</th>\n",
       "      <th>submitted</th>\n",
       "      <th>tags</th>\n",
       "      <th>nutrition</th>\n",
       "      <th>n_steps</th>\n",
       "      <th>steps</th>\n",
       "      <th>description</th>\n",
       "      <th>ingredients</th>\n",
       "      <th>n_ingredients</th>\n",
       "      <th>cuisine</th>\n",
       "      <th>ingredients_str</th>\n",
       "    </tr>\n",
       "  </thead>\n",
       "  <tbody>\n",
       "    <tr>\n",
       "      <th>0</th>\n",
       "      <td>arriba   baked winter squash mexican style</td>\n",
       "      <td>137739</td>\n",
       "      <td>55</td>\n",
       "      <td>47892</td>\n",
       "      <td>2005-09-16</td>\n",
       "      <td>['60-minutes-or-less', 'time-to-make', 'course...</td>\n",
       "      <td>[51.5, 0.0, 13.0, 0.0, 2.0, 0.0, 4.0]</td>\n",
       "      <td>11</td>\n",
       "      <td>['make a choice and proceed with recipe', 'dep...</td>\n",
       "      <td>autumn is my favorite time of year to cook! th...</td>\n",
       "      <td>[winter squash, mexican seasoning, mixed spice...</td>\n",
       "      <td>7</td>\n",
       "      <td>mexican</td>\n",
       "      <td>winter squash mexican seasoning mixed spice ho...</td>\n",
       "    </tr>\n",
       "    <tr>\n",
       "      <th>6</th>\n",
       "      <td>aww  marinated olives</td>\n",
       "      <td>25274</td>\n",
       "      <td>15</td>\n",
       "      <td>21730</td>\n",
       "      <td>2002-04-14</td>\n",
       "      <td>['15-minutes-or-less', 'time-to-make', 'course...</td>\n",
       "      <td>[380.7, 53.0, 7.0, 24.0, 6.0, 24.0, 6.0]</td>\n",
       "      <td>4</td>\n",
       "      <td>['toast the fennel seeds and lightly crush the...</td>\n",
       "      <td>my italian mil was thoroughly impressed by my ...</td>\n",
       "      <td>[fennel seeds, green olives, ripe olives, garl...</td>\n",
       "      <td>9</td>\n",
       "      <td>italian</td>\n",
       "      <td>fennel seeds green olives ripe olives garlic p...</td>\n",
       "    </tr>\n",
       "    <tr>\n",
       "      <th>16</th>\n",
       "      <td>chile rellenos</td>\n",
       "      <td>43026</td>\n",
       "      <td>45</td>\n",
       "      <td>52268</td>\n",
       "      <td>2002-10-14</td>\n",
       "      <td>['60-minutes-or-less', 'time-to-make', 'course...</td>\n",
       "      <td>[94.0, 10.0, 0.0, 11.0, 11.0, 21.0, 0.0]</td>\n",
       "      <td>9</td>\n",
       "      <td>['drain green chiles', 'sprinkle cornstarch on...</td>\n",
       "      <td>a favorite from a local restaurant no longer i...</td>\n",
       "      <td>[egg roll wrap, whole green chilies, cheese, c...</td>\n",
       "      <td>5</td>\n",
       "      <td>mexican</td>\n",
       "      <td>egg roll wrap whole green chilies cheese corns...</td>\n",
       "    </tr>\n",
       "    <tr>\n",
       "      <th>44</th>\n",
       "      <td>italian sandwich  pasta salad</td>\n",
       "      <td>33606</td>\n",
       "      <td>25</td>\n",
       "      <td>26278</td>\n",
       "      <td>2002-07-08</td>\n",
       "      <td>['30-minutes-or-less', 'time-to-make', 'course...</td>\n",
       "      <td>[279.2, 14.0, 12.0, 22.0, 23.0, 11.0, 12.0]</td>\n",
       "      <td>6</td>\n",
       "      <td>['cook pasta and set aside', 'place onions , d...</td>\n",
       "      <td>this is a fun salad that uses the same ingredi...</td>\n",
       "      <td>[tri-color spiral pasta, dill pickles, ripe ol...</td>\n",
       "      <td>16</td>\n",
       "      <td>italian</td>\n",
       "      <td>tri-color spiral pasta dill pickles ripe olive...</td>\n",
       "    </tr>\n",
       "    <tr>\n",
       "      <th>45</th>\n",
       "      <td>italian  fries</td>\n",
       "      <td>94710</td>\n",
       "      <td>15</td>\n",
       "      <td>44372</td>\n",
       "      <td>2004-06-30</td>\n",
       "      <td>['15-minutes-or-less', 'time-to-make', 'course...</td>\n",
       "      <td>[241.0, 12.0, 1.0, 23.0, 10.0, 11.0, 12.0]</td>\n",
       "      <td>4</td>\n",
       "      <td>['deep fry french fries according to package d...</td>\n",
       "      <td>ok, so this is not *really* italian, but it is...</td>\n",
       "      <td>[frozen french fries, oil, salt &amp; freshly grou...</td>\n",
       "      <td>7</td>\n",
       "      <td>italian</td>\n",
       "      <td>frozen french fries oil salt &amp; freshly ground ...</td>\n",
       "    </tr>\n",
       "  </tbody>\n",
       "</table>\n",
       "</div>"
      ],
      "text/plain": [
       "                                          name      id  minutes  \\\n",
       "0   arriba   baked winter squash mexican style  137739       55   \n",
       "6                        aww  marinated olives   25274       15   \n",
       "16                              chile rellenos   43026       45   \n",
       "44               italian sandwich  pasta salad   33606       25   \n",
       "45                              italian  fries   94710       15   \n",
       "\n",
       "    contributor_id   submitted  \\\n",
       "0            47892  2005-09-16   \n",
       "6            21730  2002-04-14   \n",
       "16           52268  2002-10-14   \n",
       "44           26278  2002-07-08   \n",
       "45           44372  2004-06-30   \n",
       "\n",
       "                                                 tags  \\\n",
       "0   ['60-minutes-or-less', 'time-to-make', 'course...   \n",
       "6   ['15-minutes-or-less', 'time-to-make', 'course...   \n",
       "16  ['60-minutes-or-less', 'time-to-make', 'course...   \n",
       "44  ['30-minutes-or-less', 'time-to-make', 'course...   \n",
       "45  ['15-minutes-or-less', 'time-to-make', 'course...   \n",
       "\n",
       "                                      nutrition  n_steps  \\\n",
       "0         [51.5, 0.0, 13.0, 0.0, 2.0, 0.0, 4.0]       11   \n",
       "6      [380.7, 53.0, 7.0, 24.0, 6.0, 24.0, 6.0]        4   \n",
       "16     [94.0, 10.0, 0.0, 11.0, 11.0, 21.0, 0.0]        9   \n",
       "44  [279.2, 14.0, 12.0, 22.0, 23.0, 11.0, 12.0]        6   \n",
       "45   [241.0, 12.0, 1.0, 23.0, 10.0, 11.0, 12.0]        4   \n",
       "\n",
       "                                                steps  \\\n",
       "0   ['make a choice and proceed with recipe', 'dep...   \n",
       "6   ['toast the fennel seeds and lightly crush the...   \n",
       "16  ['drain green chiles', 'sprinkle cornstarch on...   \n",
       "44  ['cook pasta and set aside', 'place onions , d...   \n",
       "45  ['deep fry french fries according to package d...   \n",
       "\n",
       "                                          description  \\\n",
       "0   autumn is my favorite time of year to cook! th...   \n",
       "6   my italian mil was thoroughly impressed by my ...   \n",
       "16  a favorite from a local restaurant no longer i...   \n",
       "44  this is a fun salad that uses the same ingredi...   \n",
       "45  ok, so this is not *really* italian, but it is...   \n",
       "\n",
       "                                          ingredients  n_ingredients  cuisine  \\\n",
       "0   [winter squash, mexican seasoning, mixed spice...              7  mexican   \n",
       "6   [fennel seeds, green olives, ripe olives, garl...              9  italian   \n",
       "16  [egg roll wrap, whole green chilies, cheese, c...              5  mexican   \n",
       "44  [tri-color spiral pasta, dill pickles, ripe ol...             16  italian   \n",
       "45  [frozen french fries, oil, salt & freshly grou...              7  italian   \n",
       "\n",
       "                                      ingredients_str  \n",
       "0   winter squash mexican seasoning mixed spice ho...  \n",
       "6   fennel seeds green olives ripe olives garlic p...  \n",
       "16  egg roll wrap whole green chilies cheese corns...  \n",
       "44  tri-color spiral pasta dill pickles ripe olive...  \n",
       "45  frozen french fries oil salt & freshly ground ...  "
      ]
     },
     "execution_count": 16,
     "metadata": {},
     "output_type": "execute_result"
    }
   ],
   "source": [
    "# Consider the following cuisines - top 15 from https://www.farandwide.com/s/most-popular-cuisines-world-65478f832c624e5f\n",
    "cuisines = set([\"japanese\", \"italian\", \"indian\", \"korean\", \"thai\", \n",
    "                \"mexican\", \"chinese\", \"indonesian\", \"vietnamese\", \"filipino\", \n",
    "                \"greek\", \"french\", \"malaysian\", \"turkish\", \"peruvian\",\n",
    "                \"nigerian\", \"spanish\", \"lebanese\", \"jamaican\", \"american\",\n",
    "                \"brazilian\", \"persian\", \"moroccan\", \"german\", \"cuban\",\n",
    "                \"polish\", \"dominican\", \"colombian\"])\n",
    "\n",
    "def label_recipes(dataframe):\n",
    "    for ix, row in dataframe.iterrows():\n",
    "        # Combine tags and recipe description to see if cuisine matches\n",
    "        document_str = str(row[\"description\"]).lower() + \" \" + \" \".join(row[\"tags\"])\n",
    "        cuisine_counts = Counter (\n",
    "            word for word in re.findall(r'\\b\\w+\\b', document_str) if word in cuisines\n",
    "        )\n",
    "        if cuisine_counts:\n",
    "            labeled_recipes.loc[ix, \"cuisine\"] = cuisine_counts.most_common(1)[0][0]\n",
    "        else:\n",
    "            labeled_recipes.loc[ix, \"cuisine\"] = \"other\"\n",
    "\n",
    "    return labeled_recipes[labeled_recipes[\"cuisine\"] != \"other\"].copy()\n",
    "\n",
    "cuisine_df = label_recipes(labeled_recipes)\n",
    "# Convert ingredients into string for vectorizer\n",
    "cuisine_df[\"ingredients_str\"] = labeled_recipes[\"ingredients\"].str.join(\" \")\n",
    "cuisine_df.head()"
   ]
  },
  {
   "cell_type": "code",
   "execution_count": 17,
   "metadata": {},
   "outputs": [
    {
     "data": {
      "text/plain": [
       "cuisine\n",
       "italian       3183\n",
       "french        2557\n",
       "mexican       1931\n",
       "greek         1129\n",
       "indian        1102\n",
       "american      1088\n",
       "chinese       1057\n",
       "thai           773\n",
       "german         747\n",
       "spanish        605\n",
       "japanese       466\n",
       "moroccan       330\n",
       "polish         226\n",
       "cuban          174\n",
       "vietnamese     162\n",
       "turkish        159\n",
       "korean         128\n",
       "filipino       118\n",
       "lebanese       102\n",
       "persian        101\n",
       "brazilian       97\n",
       "indonesian      82\n",
       "jamaican        76\n",
       "peruvian        50\n",
       "dominican       29\n",
       "malaysian       28\n",
       "colombian       22\n",
       "nigerian        15\n",
       "Name: count, dtype: int64"
      ]
     },
     "execution_count": 17,
     "metadata": {},
     "output_type": "execute_result"
    }
   ],
   "source": [
    "relative_counts = cuisine_df[\"cuisine\"].value_counts()\n",
    "relative_counts"
   ]
  },
  {
   "cell_type": "code",
   "execution_count": 18,
   "metadata": {},
   "outputs": [],
   "source": [
    "# Split data into training and test sets\n",
    "train_data, test_data = train_test_split(cuisine_df, test_size=0.15, shuffle=True)\n",
    "\n",
    "X_train, y_train = train_data[\"ingredients_str\"], train_data[\"cuisine\"]\n",
    "X_test, y_test = test_data[\"ingredients_str\"], test_data[\"cuisine\"]\n",
    "\n",
    "tfidf = TfidfVectorizer()\n",
    "X_train = tfidf.fit_transform(X_train)\n",
    "X_test = tfidf.transform(X_test)"
   ]
  },
  {
   "cell_type": "code",
   "execution_count": 22,
   "metadata": {},
   "outputs": [
    {
     "name": "stdout",
     "output_type": "stream",
     "text": [
      "Classifier accuracy for 50 estimators: 55.70334542523177%.\n",
      "Classifier accuracy for 75 estimators: 56.10640870616687%.\n",
      "Classifier accuracy for 100 estimators: 56.187021362353896%.\n",
      "Classifier accuracy for 150 estimators: 56.509471987101975%.\n",
      "Classifier accuracy for 200 estimators: 56.791616283756554%.\n",
      "Classifier accuracy for 500 estimators: 57.51713018943975%.\n",
      "Classifier accuracy for 1000 estimators: 57.476823861346226%.\n"
     ]
    }
   ],
   "source": [
    "# Fit the RFC\n",
    "test_accuracies = []\n",
    "num_estimators = [50, 75, 100, 150, 200, 500, 1000]\n",
    "best_clf = None\n",
    "best_accuracy = 0\n",
    "for estimators in num_estimators:\n",
    "    clf = RandomForestClassifier(n_estimators=estimators)\n",
    "    clf.fit(X_train, y_train)\n",
    "    predictions = clf.predict(X_test)\n",
    "    accuracy = accuracy_score(y_test, predictions)\n",
    "    test_accuracies.append(accuracy)\n",
    "    if best_clf is None or accuracy > best_accuracy:\n",
    "        best_accuracy, best_clf = accuracy, clf\n",
    "    print(f\"Classifier accuracy for {estimators} estimators: {accuracy * 100}%.\")"
   ]
  },
  {
   "cell_type": "code",
   "execution_count": 23,
   "metadata": {},
   "outputs": [
    {
     "data": {
      "image/png": "[encoded data removed]",
      "text/plain": [
       "<Figure size 1000x600 with 1 Axes>"
      ]
     },
     "metadata": {},
     "output_type": "display_data"
    }
   ],
   "source": [
    "# Plot test accuracies of the various modelss\n",
    "plt.figure(figsize=(10, 6))\n",
    "plt.plot(num_estimators, test_accuracies, marker='o', linestyle='-', color='b')\n",
    "plt.title('Testing Accuracies for Different Numbers of Estimators')\n",
    "plt.xlabel('Number of Estimators')\n",
    "plt.ylabel('Accuracy')\n",
    "plt.grid(True)\n",
    "plt.xticks(num_estimators)\n",
    "plt.show()"
   ]
  },
  {
   "cell_type": "code",
   "execution_count": 24,
   "metadata": {},
   "outputs": [],
   "source": [
    "def predict_cuisine(ingredients):\n",
    "    ingredient_str = \" \".join(ingredients)\n",
    "    return best_clf.predict(tfidf.transform([ingredient_str]))[0]"
   ]
  },
  {
   "cell_type": "code",
   "execution_count": 25,
   "metadata": {},
   "outputs": [
    {
     "data": {
      "text/plain": [
       "'french'"
      ]
     },
     "execution_count": 25,
     "metadata": {},
     "output_type": "execute_result"
    }
   ],
   "source": [
    "predict_cuisine([\"coriander\", \"butter\", \"garlic\", \"chicken\", \"salt\"])"
   ]
  },
  {
   "cell_type": "code",
   "execution_count": null,
   "metadata": {},
   "outputs": [],
   "source": []
  }
 ],
 "metadata": {
  "kernelspec": {
   "display_name": ".venv",
   "language": "python",
   "name": "python3"
  },
  "language_info": {
   "codemirror_mode": {
    "name": "ipython",
    "version": 3
   },
   "file_extension": ".py",
   "mimetype": "text/x-python",
   "name": "python",
   "nbconvert_exporter": "python",
   "pygments_lexer": "ipython3",
   "version": "3.10.0"
  }
 },
 "nbformat": 4,
 "nbformat_minor": 2
}
