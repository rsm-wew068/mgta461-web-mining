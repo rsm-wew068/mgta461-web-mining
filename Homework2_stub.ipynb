{
 "cells": [
  {
   "cell_type": "code",
   "execution_count": 218,
   "id": "dbcb905c",
   "metadata": {},
   "outputs": [],
   "source": [
    "import numpy as np\n",
    "import urllib\n",
    "import scipy.optimize\n",
    "import random\n",
    "from sklearn import linear_model\n",
    "import gzip\n",
    "from collections import defaultdict\n",
    "from sklearn.metrics import accuracy_score, confusion_matrix, mean_squared_error"
   ]
  },
  {
   "cell_type": "code",
   "execution_count": 219,
   "id": "94e03340",
   "metadata": {},
   "outputs": [],
   "source": [
    "import warnings\n",
    "warnings.filterwarnings(\"ignore\")"
   ]
  },
  {
   "cell_type": "code",
   "execution_count": 220,
   "id": "8bbbc2fe",
   "metadata": {},
   "outputs": [],
   "source": [
    "def assertFloat(x):\n",
    "    assert type(float(x)) == float\n",
    "\n",
    "def assertFloatList(items, N):\n",
    "    assert len(items) == N\n",
    "    assert [type(float(x)) for x in items] == [float]*N"
   ]
  },
  {
   "cell_type": "code",
   "execution_count": null,
   "id": "4bf832d7",
   "metadata": {},
   "outputs": [],
   "source": [
    "## Tasks — Model Pipelines and Diagnostics:\n",
    "# In the first homework, we began to explore a coulpe of issues with the classifiers we built. Namely (1) the data were not shuffled, and (2) the labels were highly imbalanced. Both of these made it difficult to effectively build an accurate classifier. Here we’ll try and correct for those issues using the Bankruptcy dataset."
   ]
  },
  {
   "cell_type": "code",
   "execution_count": 221,
   "id": "85c00feb",
   "metadata": {},
   "outputs": [],
   "source": [
    "f = open(\"polish+companies+bankruptcy+data/5year.arff\", 'r')"
   ]
  },
  {
   "cell_type": "code",
   "execution_count": 222,
   "id": "6fad4389",
   "metadata": {},
   "outputs": [],
   "source": [
    "# Read and parse the data\n",
    "while not '@data' in f.readline():\n",
    "    pass\n",
    "\n",
    "dataset = []\n",
    "for l in f:\n",
    "    if '?' in l: # Missing entry\n",
    "        continue\n",
    "    l = l.split(',')\n",
    "    values = [1] + [float(x) for x in l]\n",
    "    values[-1] = values[-1] > 0 # Convert to bool\n",
    "    dataset.append(values)"
   ]
  },
  {
   "cell_type": "code",
   "execution_count": 223,
   "id": "7691e3d0",
   "metadata": {},
   "outputs": [],
   "source": [
    "X = [d[:-1] for d in dataset]\n",
    "y = [d[-1] for d in dataset]"
   ]
  },
  {
   "cell_type": "code",
   "execution_count": 224,
   "id": "03249990",
   "metadata": {},
   "outputs": [],
   "source": [
    "answers = {} # Your answers"
   ]
  },
  {
   "cell_type": "code",
   "execution_count": 225,
   "id": "a31a5b59",
   "metadata": {},
   "outputs": [],
   "source": [
    "def accuracy(predictions, y):\n",
    "    return accuracy_score(y, predictions)"
   ]
  },
  {
   "cell_type": "code",
   "execution_count": 226,
   "id": "83974166",
   "metadata": {},
   "outputs": [],
   "source": [
    "def BER(predictions, y):\n",
    "    tn, fp, fn, tp = confusion_matrix(y, predictions).ravel()\n",
    "    false_positive_rate = fp / (fp + tn)\n",
    "    false_negative_rate = fn / (fn + tp)\n",
    "    return (false_positive_rate + false_negative_rate) / 2"
   ]
  },
  {
   "cell_type": "code",
   "execution_count": 227,
   "id": "5e78a6fc",
   "metadata": {},
   "outputs": [],
   "source": [
    "### Question 1\n",
    "# Code to read the data is available in the stub. Train a logistic regressor (e.g. sklearn.linear model.LogisticRegression) with\n",
    "# regularization coefficient C = 1.0. Report the accuracy and Balanced Error Rate (BER) of your classifier."
   ]
  },
  {
   "cell_type": "code",
   "execution_count": 228,
   "id": "f59633dd",
   "metadata": {},
   "outputs": [],
   "source": [
    "mod = linear_model.LogisticRegression(C=1)\n",
    "mod.fit(X,y)\n",
    "\n",
    "pred = mod.predict(X)"
   ]
  },
  {
   "cell_type": "code",
   "execution_count": 229,
   "id": "c40e6cb9",
   "metadata": {},
   "outputs": [],
   "source": [
    "# Calculate accuracy\n",
    "acc1 = accuracy(pred, y)\n",
    "\n",
    "# Calculate Balanced Error Rate (BER)\n",
    "ber1 = BER(pred, y)"
   ]
  },
  {
   "cell_type": "code",
   "execution_count": 230,
   "id": "033a6c45",
   "metadata": {},
   "outputs": [],
   "source": [
    "answers['Q1'] = [acc1, ber1] # Accuracy and balanced error rate"
   ]
  },
  {
   "cell_type": "code",
   "execution_count": 231,
   "id": "e75988a2",
   "metadata": {},
   "outputs": [],
   "source": [
    "assertFloatList(answers['Q1'], 2)"
   ]
  },
  {
   "cell_type": "code",
   "execution_count": 232,
   "id": "5d20b10a",
   "metadata": {},
   "outputs": [
    {
     "data": {
      "text/plain": [
       "[0.9656878917848895, 0.47668514315934635]"
      ]
     },
     "execution_count": 232,
     "metadata": {},
     "output_type": "execute_result"
    }
   ],
   "source": [
    "answers['Q1']"
   ]
  },
  {
   "cell_type": "code",
   "execution_count": 233,
   "id": "30482ced",
   "metadata": {},
   "outputs": [],
   "source": [
    "### Question 2\n",
    "# Retrain the above model using the class weight=’balanced’ option. \n",
    "# Report the accuracy and BER of your new classifier"
   ]
  },
  {
   "cell_type": "code",
   "execution_count": 234,
   "id": "bc8f8282",
   "metadata": {},
   "outputs": [],
   "source": [
    "mod = linear_model.LogisticRegression(C=1, class_weight='balanced')\n",
    "mod.fit(X,y)\n",
    "\n",
    "pred = mod.predict(X)"
   ]
  },
  {
   "cell_type": "code",
   "execution_count": 235,
   "id": "e99274d7",
   "metadata": {},
   "outputs": [],
   "source": [
    "# Calculate accuracy\n",
    "acc2 = accuracy(pred, y)\n",
    "\n",
    "# Calculate Balanced Error Rate (BER)\n",
    "ber2 = BER(pred, y)"
   ]
  },
  {
   "cell_type": "code",
   "execution_count": 236,
   "id": "de8d6195",
   "metadata": {},
   "outputs": [],
   "source": [
    "answers['Q2'] = [acc2, ber2]"
   ]
  },
  {
   "cell_type": "code",
   "execution_count": 237,
   "id": "8a90cd8a",
   "metadata": {},
   "outputs": [],
   "source": [
    "assertFloatList(answers['Q2'], 2)"
   ]
  },
  {
   "cell_type": "code",
   "execution_count": 238,
   "id": "038617dc",
   "metadata": {},
   "outputs": [
    {
     "data": {
      "text/plain": [
       "[0.6948201913559882, 0.304572597219154]"
      ]
     },
     "execution_count": 238,
     "metadata": {},
     "output_type": "execute_result"
    }
   ],
   "source": [
    "answers['Q2']"
   ]
  },
  {
   "cell_type": "code",
   "execution_count": 239,
   "id": "e1fa1ccb",
   "metadata": {},
   "outputs": [],
   "source": [
    "### Question 3\n",
    "# Shuffle the data, and split it into training, validation, and test splits, with a 50/25/25% ratio. Use the \n",
    "# code in the stub provided to ensure that your random split is the same as the reference\n",
    "# solution. Using the class weight=’balanced’ option, and training on the training set, report the\n",
    "# training/validation/test BER."
   ]
  },
  {
   "cell_type": "code",
   "execution_count": 240,
   "id": "55d4beff",
   "metadata": {},
   "outputs": [],
   "source": [
    "random.seed(3)\n",
    "random.shuffle(dataset)"
   ]
  },
  {
   "cell_type": "code",
   "execution_count": 241,
   "id": "d19c0c8a",
   "metadata": {},
   "outputs": [],
   "source": [
    "X = [d[:-1] for d in dataset]\n",
    "y = [d[-1] for d in dataset]"
   ]
  },
  {
   "cell_type": "code",
   "execution_count": 242,
   "id": "18d5fd88",
   "metadata": {},
   "outputs": [],
   "source": [
    "Xtrain, Xvalid, Xtest = X[:len(X)//2], X[len(X)//2:(3*len(X))//4], X[(3*len(X))//4:]\n",
    "ytrain, yvalid, ytest = y[:len(X)//2], y[len(X)//2:(3*len(X))//4], y[(3*len(X))//4:]"
   ]
  },
  {
   "cell_type": "code",
   "execution_count": 243,
   "id": "6d66f07c",
   "metadata": {},
   "outputs": [
    {
     "data": {
      "text/plain": [
       "(1515, 758, 758)"
      ]
     },
     "execution_count": 243,
     "metadata": {},
     "output_type": "execute_result"
    }
   ],
   "source": [
    "len(Xtrain), len(Xvalid), len(Xtest)"
   ]
  },
  {
   "cell_type": "code",
   "execution_count": 244,
   "id": "647021ed",
   "metadata": {},
   "outputs": [
    {
     "data": {
      "text/html": [
       "<style>#sk-container-id-3 {\n",
       "  /* Definition of color scheme common for light and dark mode */\n",
       "  --sklearn-color-text: black;\n",
       "  --sklearn-color-line: gray;\n",
       "  /* Definition of color scheme for unfitted estimators */\n",
       "  --sklearn-color-unfitted-level-0: #fff5e6;\n",
       "  --sklearn-color-unfitted-level-1: #f6e4d2;\n",
       "  --sklearn-color-unfitted-level-2: #ffe0b3;\n",
       "  --sklearn-color-unfitted-level-3: chocolate;\n",
       "  /* Definition of color scheme for fitted estimators */\n",
       "  --sklearn-color-fitted-level-0: #f0f8ff;\n",
       "  --sklearn-color-fitted-level-1: #d4ebff;\n",
       "  --sklearn-color-fitted-level-2: #b3dbfd;\n",
       "  --sklearn-color-fitted-level-3: cornflowerblue;\n",
       "\n",
       "  /* Specific color for light theme */\n",
       "  --sklearn-color-text-on-default-background: var(--sg-text-color, var(--theme-code-foreground, var(--jp-content-font-color1, black)));\n",
       "  --sklearn-color-background: var(--sg-background-color, var(--theme-background, var(--jp-layout-color0, white)));\n",
       "  --sklearn-color-border-box: var(--sg-text-color, var(--theme-code-foreground, var(--jp-content-font-color1, black)));\n",
       "  --sklearn-color-icon: #696969;\n",
       "\n",
       "  @media (prefers-color-scheme: dark) {\n",
       "    /* Redefinition of color scheme for dark theme */\n",
       "    --sklearn-color-text-on-default-background: var(--sg-text-color, var(--theme-code-foreground, var(--jp-content-font-color1, white)));\n",
       "    --sklearn-color-background: var(--sg-background-color, var(--theme-background, var(--jp-layout-color0, #111)));\n",
       "    --sklearn-color-border-box: var(--sg-text-color, var(--theme-code-foreground, var(--jp-content-font-color1, white)));\n",
       "    --sklearn-color-icon: #878787;\n",
       "  }\n",
       "}\n",
       "\n",
       "#sk-container-id-3 {\n",
       "  color: var(--sklearn-color-text);\n",
       "}\n",
       "\n",
       "#sk-container-id-3 pre {\n",
       "  padding: 0;\n",
       "}\n",
       "\n",
       "#sk-container-id-3 input.sk-hidden--visually {\n",
       "  border: 0;\n",
       "  clip: rect(1px 1px 1px 1px);\n",
       "  clip: rect(1px, 1px, 1px, 1px);\n",
       "  height: 1px;\n",
       "  margin: -1px;\n",
       "  overflow: hidden;\n",
       "  padding: 0;\n",
       "  position: absolute;\n",
       "  width: 1px;\n",
       "}\n",
       "\n",
       "#sk-container-id-3 div.sk-dashed-wrapped {\n",
       "  border: 1px dashed var(--sklearn-color-line);\n",
       "  margin: 0 0.4em 0.5em 0.4em;\n",
       "  box-sizing: border-box;\n",
       "  padding-bottom: 0.4em;\n",
       "  background-color: var(--sklearn-color-background);\n",
       "}\n",
       "\n",
       "#sk-container-id-3 div.sk-container {\n",
       "  /* jupyter's `normalize.less` sets `[hidden] { display: none; }`\n",
       "     but bootstrap.min.css set `[hidden] { display: none !important; }`\n",
       "     so we also need the `!important` here to be able to override the\n",
       "     default hidden behavior on the sphinx rendered scikit-learn.org.\n",
       "     See: https://github.com/scikit-learn/scikit-learn/issues/21755 */\n",
       "  display: inline-block !important;\n",
       "  position: relative;\n",
       "}\n",
       "\n",
       "#sk-container-id-3 div.sk-text-repr-fallback {\n",
       "  display: none;\n",
       "}\n",
       "\n",
       "div.sk-parallel-item,\n",
       "div.sk-serial,\n",
       "div.sk-item {\n",
       "  /* draw centered vertical line to link estimators */\n",
       "  background-image: linear-gradient(var(--sklearn-color-text-on-default-background), var(--sklearn-color-text-on-default-background));\n",
       "  background-size: 2px 100%;\n",
       "  background-repeat: no-repeat;\n",
       "  background-position: center center;\n",
       "}\n",
       "\n",
       "/* Parallel-specific style estimator block */\n",
       "\n",
       "#sk-container-id-3 div.sk-parallel-item::after {\n",
       "  content: \"\";\n",
       "  width: 100%;\n",
       "  border-bottom: 2px solid var(--sklearn-color-text-on-default-background);\n",
       "  flex-grow: 1;\n",
       "}\n",
       "\n",
       "#sk-container-id-3 div.sk-parallel {\n",
       "  display: flex;\n",
       "  align-items: stretch;\n",
       "  justify-content: center;\n",
       "  background-color: var(--sklearn-color-background);\n",
       "  position: relative;\n",
       "}\n",
       "\n",
       "#sk-container-id-3 div.sk-parallel-item {\n",
       "  display: flex;\n",
       "  flex-direction: column;\n",
       "}\n",
       "\n",
       "#sk-container-id-3 div.sk-parallel-item:first-child::after {\n",
       "  align-self: flex-end;\n",
       "  width: 50%;\n",
       "}\n",
       "\n",
       "#sk-container-id-3 div.sk-parallel-item:last-child::after {\n",
       "  align-self: flex-start;\n",
       "  width: 50%;\n",
       "}\n",
       "\n",
       "#sk-container-id-3 div.sk-parallel-item:only-child::after {\n",
       "  width: 0;\n",
       "}\n",
       "\n",
       "/* Serial-specific style estimator block */\n",
       "\n",
       "#sk-container-id-3 div.sk-serial {\n",
       "  display: flex;\n",
       "  flex-direction: column;\n",
       "  align-items: center;\n",
       "  background-color: var(--sklearn-color-background);\n",
       "  padding-right: 1em;\n",
       "  padding-left: 1em;\n",
       "}\n",
       "\n",
       "\n",
       "/* Toggleable style: style used for estimator/Pipeline/ColumnTransformer box that is\n",
       "clickable and can be expanded/collapsed.\n",
       "- Pipeline and ColumnTransformer use this feature and define the default style\n",
       "- Estimators will overwrite some part of the style using the `sk-estimator` class\n",
       "*/\n",
       "\n",
       "/* Pipeline and ColumnTransformer style (default) */\n",
       "\n",
       "#sk-container-id-3 div.sk-toggleable {\n",
       "  /* Default theme specific background. It is overwritten whether we have a\n",
       "  specific estimator or a Pipeline/ColumnTransformer */\n",
       "  background-color: var(--sklearn-color-background);\n",
       "}\n",
       "\n",
       "/* Toggleable label */\n",
       "#sk-container-id-3 label.sk-toggleable__label {\n",
       "  cursor: pointer;\n",
       "  display: block;\n",
       "  width: 100%;\n",
       "  margin-bottom: 0;\n",
       "  padding: 0.5em;\n",
       "  box-sizing: border-box;\n",
       "  text-align: center;\n",
       "}\n",
       "\n",
       "#sk-container-id-3 label.sk-toggleable__label-arrow:before {\n",
       "  /* Arrow on the left of the label */\n",
       "  content: \"▸\";\n",
       "  float: left;\n",
       "  margin-right: 0.25em;\n",
       "  color: var(--sklearn-color-icon);\n",
       "}\n",
       "\n",
       "#sk-container-id-3 label.sk-toggleable__label-arrow:hover:before {\n",
       "  color: var(--sklearn-color-text);\n",
       "}\n",
       "\n",
       "/* Toggleable content - dropdown */\n",
       "\n",
       "#sk-container-id-3 div.sk-toggleable__content {\n",
       "  max-height: 0;\n",
       "  max-width: 0;\n",
       "  overflow: hidden;\n",
       "  text-align: left;\n",
       "  /* unfitted */\n",
       "  background-color: var(--sklearn-color-unfitted-level-0);\n",
       "}\n",
       "\n",
       "#sk-container-id-3 div.sk-toggleable__content.fitted {\n",
       "  /* fitted */\n",
       "  background-color: var(--sklearn-color-fitted-level-0);\n",
       "}\n",
       "\n",
       "#sk-container-id-3 div.sk-toggleable__content pre {\n",
       "  margin: 0.2em;\n",
       "  border-radius: 0.25em;\n",
       "  color: var(--sklearn-color-text);\n",
       "  /* unfitted */\n",
       "  background-color: var(--sklearn-color-unfitted-level-0);\n",
       "}\n",
       "\n",
       "#sk-container-id-3 div.sk-toggleable__content.fitted pre {\n",
       "  /* unfitted */\n",
       "  background-color: var(--sklearn-color-fitted-level-0);\n",
       "}\n",
       "\n",
       "#sk-container-id-3 input.sk-toggleable__control:checked~div.sk-toggleable__content {\n",
       "  /* Expand drop-down */\n",
       "  max-height: 200px;\n",
       "  max-width: 100%;\n",
       "  overflow: auto;\n",
       "}\n",
       "\n",
       "#sk-container-id-3 input.sk-toggleable__control:checked~label.sk-toggleable__label-arrow:before {\n",
       "  content: \"▾\";\n",
       "}\n",
       "\n",
       "/* Pipeline/ColumnTransformer-specific style */\n",
       "\n",
       "#sk-container-id-3 div.sk-label input.sk-toggleable__control:checked~label.sk-toggleable__label {\n",
       "  color: var(--sklearn-color-text);\n",
       "  background-color: var(--sklearn-color-unfitted-level-2);\n",
       "}\n",
       "\n",
       "#sk-container-id-3 div.sk-label.fitted input.sk-toggleable__control:checked~label.sk-toggleable__label {\n",
       "  background-color: var(--sklearn-color-fitted-level-2);\n",
       "}\n",
       "\n",
       "/* Estimator-specific style */\n",
       "\n",
       "/* Colorize estimator box */\n",
       "#sk-container-id-3 div.sk-estimator input.sk-toggleable__control:checked~label.sk-toggleable__label {\n",
       "  /* unfitted */\n",
       "  background-color: var(--sklearn-color-unfitted-level-2);\n",
       "}\n",
       "\n",
       "#sk-container-id-3 div.sk-estimator.fitted input.sk-toggleable__control:checked~label.sk-toggleable__label {\n",
       "  /* fitted */\n",
       "  background-color: var(--sklearn-color-fitted-level-2);\n",
       "}\n",
       "\n",
       "#sk-container-id-3 div.sk-label label.sk-toggleable__label,\n",
       "#sk-container-id-3 div.sk-label label {\n",
       "  /* The background is the default theme color */\n",
       "  color: var(--sklearn-color-text-on-default-background);\n",
       "}\n",
       "\n",
       "/* On hover, darken the color of the background */\n",
       "#sk-container-id-3 div.sk-label:hover label.sk-toggleable__label {\n",
       "  color: var(--sklearn-color-text);\n",
       "  background-color: var(--sklearn-color-unfitted-level-2);\n",
       "}\n",
       "\n",
       "/* Label box, darken color on hover, fitted */\n",
       "#sk-container-id-3 div.sk-label.fitted:hover label.sk-toggleable__label.fitted {\n",
       "  color: var(--sklearn-color-text);\n",
       "  background-color: var(--sklearn-color-fitted-level-2);\n",
       "}\n",
       "\n",
       "/* Estimator label */\n",
       "\n",
       "#sk-container-id-3 div.sk-label label {\n",
       "  font-family: monospace;\n",
       "  font-weight: bold;\n",
       "  display: inline-block;\n",
       "  line-height: 1.2em;\n",
       "}\n",
       "\n",
       "#sk-container-id-3 div.sk-label-container {\n",
       "  text-align: center;\n",
       "}\n",
       "\n",
       "/* Estimator-specific */\n",
       "#sk-container-id-3 div.sk-estimator {\n",
       "  font-family: monospace;\n",
       "  border: 1px dotted var(--sklearn-color-border-box);\n",
       "  border-radius: 0.25em;\n",
       "  box-sizing: border-box;\n",
       "  margin-bottom: 0.5em;\n",
       "  /* unfitted */\n",
       "  background-color: var(--sklearn-color-unfitted-level-0);\n",
       "}\n",
       "\n",
       "#sk-container-id-3 div.sk-estimator.fitted {\n",
       "  /* fitted */\n",
       "  background-color: var(--sklearn-color-fitted-level-0);\n",
       "}\n",
       "\n",
       "/* on hover */\n",
       "#sk-container-id-3 div.sk-estimator:hover {\n",
       "  /* unfitted */\n",
       "  background-color: var(--sklearn-color-unfitted-level-2);\n",
       "}\n",
       "\n",
       "#sk-container-id-3 div.sk-estimator.fitted:hover {\n",
       "  /* fitted */\n",
       "  background-color: var(--sklearn-color-fitted-level-2);\n",
       "}\n",
       "\n",
       "/* Specification for estimator info (e.g. \"i\" and \"?\") */\n",
       "\n",
       "/* Common style for \"i\" and \"?\" */\n",
       "\n",
       ".sk-estimator-doc-link,\n",
       "a:link.sk-estimator-doc-link,\n",
       "a:visited.sk-estimator-doc-link {\n",
       "  float: right;\n",
       "  font-size: smaller;\n",
       "  line-height: 1em;\n",
       "  font-family: monospace;\n",
       "  background-color: var(--sklearn-color-background);\n",
       "  border-radius: 1em;\n",
       "  height: 1em;\n",
       "  width: 1em;\n",
       "  text-decoration: none !important;\n",
       "  margin-left: 1ex;\n",
       "  /* unfitted */\n",
       "  border: var(--sklearn-color-unfitted-level-1) 1pt solid;\n",
       "  color: var(--sklearn-color-unfitted-level-1);\n",
       "}\n",
       "\n",
       ".sk-estimator-doc-link.fitted,\n",
       "a:link.sk-estimator-doc-link.fitted,\n",
       "a:visited.sk-estimator-doc-link.fitted {\n",
       "  /* fitted */\n",
       "  border: var(--sklearn-color-fitted-level-1) 1pt solid;\n",
       "  color: var(--sklearn-color-fitted-level-1);\n",
       "}\n",
       "\n",
       "/* On hover */\n",
       "div.sk-estimator:hover .sk-estimator-doc-link:hover,\n",
       ".sk-estimator-doc-link:hover,\n",
       "div.sk-label-container:hover .sk-estimator-doc-link:hover,\n",
       ".sk-estimator-doc-link:hover {\n",
       "  /* unfitted */\n",
       "  background-color: var(--sklearn-color-unfitted-level-3);\n",
       "  color: var(--sklearn-color-background);\n",
       "  text-decoration: none;\n",
       "}\n",
       "\n",
       "div.sk-estimator.fitted:hover .sk-estimator-doc-link.fitted:hover,\n",
       ".sk-estimator-doc-link.fitted:hover,\n",
       "div.sk-label-container:hover .sk-estimator-doc-link.fitted:hover,\n",
       ".sk-estimator-doc-link.fitted:hover {\n",
       "  /* fitted */\n",
       "  background-color: var(--sklearn-color-fitted-level-3);\n",
       "  color: var(--sklearn-color-background);\n",
       "  text-decoration: none;\n",
       "}\n",
       "\n",
       "/* Span, style for the box shown on hovering the info icon */\n",
       ".sk-estimator-doc-link span {\n",
       "  display: none;\n",
       "  z-index: 9999;\n",
       "  position: relative;\n",
       "  font-weight: normal;\n",
       "  right: .2ex;\n",
       "  padding: .5ex;\n",
       "  margin: .5ex;\n",
       "  width: min-content;\n",
       "  min-width: 20ex;\n",
       "  max-width: 50ex;\n",
       "  color: var(--sklearn-color-text);\n",
       "  box-shadow: 2pt 2pt 4pt #999;\n",
       "  /* unfitted */\n",
       "  background: var(--sklearn-color-unfitted-level-0);\n",
       "  border: .5pt solid var(--sklearn-color-unfitted-level-3);\n",
       "}\n",
       "\n",
       ".sk-estimator-doc-link.fitted span {\n",
       "  /* fitted */\n",
       "  background: var(--sklearn-color-fitted-level-0);\n",
       "  border: var(--sklearn-color-fitted-level-3);\n",
       "}\n",
       "\n",
       ".sk-estimator-doc-link:hover span {\n",
       "  display: block;\n",
       "}\n",
       "\n",
       "/* \"?\"-specific style due to the `<a>` HTML tag */\n",
       "\n",
       "#sk-container-id-3 a.estimator_doc_link {\n",
       "  float: right;\n",
       "  font-size: 1rem;\n",
       "  line-height: 1em;\n",
       "  font-family: monospace;\n",
       "  background-color: var(--sklearn-color-background);\n",
       "  border-radius: 1rem;\n",
       "  height: 1rem;\n",
       "  width: 1rem;\n",
       "  text-decoration: none;\n",
       "  /* unfitted */\n",
       "  color: var(--sklearn-color-unfitted-level-1);\n",
       "  border: var(--sklearn-color-unfitted-level-1) 1pt solid;\n",
       "}\n",
       "\n",
       "#sk-container-id-3 a.estimator_doc_link.fitted {\n",
       "  /* fitted */\n",
       "  border: var(--sklearn-color-fitted-level-1) 1pt solid;\n",
       "  color: var(--sklearn-color-fitted-level-1);\n",
       "}\n",
       "\n",
       "/* On hover */\n",
       "#sk-container-id-3 a.estimator_doc_link:hover {\n",
       "  /* unfitted */\n",
       "  background-color: var(--sklearn-color-unfitted-level-3);\n",
       "  color: var(--sklearn-color-background);\n",
       "  text-decoration: none;\n",
       "}\n",
       "\n",
       "#sk-container-id-3 a.estimator_doc_link.fitted:hover {\n",
       "  /* fitted */\n",
       "  background-color: var(--sklearn-color-fitted-level-3);\n",
       "}\n",
       "</style><div id=\"sk-container-id-3\" class=\"sk-top-container\"><div class=\"sk-text-repr-fallback\"><pre>LogisticRegression(C=1, class_weight=&#x27;balanced&#x27;)</pre><b>In a Jupyter environment, please rerun this cell to show the HTML representation or trust the notebook. <br />On GitHub, the HTML representation is unable to render, please try loading this page with nbviewer.org.</b></div><div class=\"sk-container\" hidden><div class=\"sk-item\"><div class=\"sk-estimator fitted sk-toggleable\"><input class=\"sk-toggleable__control sk-hidden--visually\" id=\"sk-estimator-id-3\" type=\"checkbox\" checked><label for=\"sk-estimator-id-3\" class=\"sk-toggleable__label fitted sk-toggleable__label-arrow fitted\">&nbsp;&nbsp;LogisticRegression<a class=\"sk-estimator-doc-link fitted\" rel=\"noreferrer\" target=\"_blank\" href=\"https://scikit-learn.org/1.5/modules/generated/sklearn.linear_model.LogisticRegression.html\">?<span>Documentation for LogisticRegression</span></a><span class=\"sk-estimator-doc-link fitted\">i<span>Fitted</span></span></label><div class=\"sk-toggleable__content fitted\"><pre>LogisticRegression(C=1, class_weight=&#x27;balanced&#x27;)</pre></div> </div></div></div></div>"
      ],
      "text/plain": [
       "LogisticRegression(C=1, class_weight='balanced')"
      ]
     },
     "execution_count": 244,
     "metadata": {},
     "output_type": "execute_result"
    }
   ],
   "source": [
    "# Train the logistic regression model with class_weight='balanced' on the training set\n",
    "mod = linear_model.LogisticRegression(C=1, class_weight='balanced')\n",
    "mod.fit(Xtrain, ytrain)"
   ]
  },
  {
   "cell_type": "code",
   "execution_count": 245,
   "id": "2fd23149",
   "metadata": {},
   "outputs": [],
   "source": [
    "# Make predictions for training, validation, and test sets\n",
    "predTrain = mod.predict(Xtrain)\n",
    "predValid = mod.predict(Xvalid)\n",
    "predTest = mod.predict(Xtest)"
   ]
  },
  {
   "cell_type": "code",
   "execution_count": 246,
   "id": "7d0524ae",
   "metadata": {},
   "outputs": [],
   "source": [
    "# Calculate BER for training, validation, and test sets\n",
    "berTrain = BER(predTrain, ytrain)\n",
    "berValid = BER(predValid, yvalid)\n",
    "berTest = BER(predTest, ytest)"
   ]
  },
  {
   "cell_type": "code",
   "execution_count": 247,
   "id": "0bb40dc2",
   "metadata": {},
   "outputs": [],
   "source": [
    "answers['Q3'] = [berTrain, berValid, berTest]"
   ]
  },
  {
   "cell_type": "code",
   "execution_count": 248,
   "id": "9e0ece86",
   "metadata": {},
   "outputs": [],
   "source": [
    "assertFloatList(answers['Q3'], 3)"
   ]
  },
  {
   "cell_type": "code",
   "execution_count": 249,
   "id": "e2779259",
   "metadata": {},
   "outputs": [
    {
     "data": {
      "text/plain": [
       "[0.29287226079549855, 0.3159203980099502, 0.2585616438356164]"
      ]
     },
     "execution_count": 249,
     "metadata": {},
     "output_type": "execute_result"
    }
   ],
   "source": [
    "answers['Q3']"
   ]
  },
  {
   "cell_type": "code",
   "execution_count": 250,
   "id": "81d44cb2",
   "metadata": {},
   "outputs": [],
   "source": [
    "### Question 4\n",
    "# Implement a complete regularization pipeline with the above classifier. Consider values of C in the range\n",
    "# {10−4, 10−3, . . . , 103, 104}. Report the validation BER for each value of C."
   ]
  },
  {
   "cell_type": "code",
   "execution_count": 251,
   "id": "5ff0daca",
   "metadata": {},
   "outputs": [],
   "source": [
    "# Range of C values: {10^−4, 10^−3, ..., 10^3, 10^4}\n",
    "C_values = [10**i for i in range(-4, 5)]\n",
    "\n",
    "# List to store BER for each value of C on the validation set\n",
    "berList = []\n",
    "\n",
    "# Train and evaluate the model for each value of C\n",
    "for C in C_values:\n",
    "    # Train the logistic regression model with class_weight='balanced' and varying C\n",
    "    mod = linear_model.LogisticRegression(C=C, class_weight='balanced')\n",
    "    mod.fit(Xtrain, ytrain)\n",
    "\n",
    "    # Make predictions on the validation set\n",
    "    predValid = mod.predict(Xvalid)\n",
    "\n",
    "    # Calculate the BER on the validation set\n",
    "    berValid = BER(predValid, yvalid)\n",
    "\n",
    "    # Append the BER for this value of C to the list\n",
    "    berList.append(berValid)"
   ]
  },
  {
   "cell_type": "code",
   "execution_count": 252,
   "id": "3c96b655",
   "metadata": {},
   "outputs": [],
   "source": [
    "answers['Q4'] = berList"
   ]
  },
  {
   "cell_type": "code",
   "execution_count": 253,
   "id": "f55f3d6e",
   "metadata": {},
   "outputs": [],
   "source": [
    "assertFloatList(answers['Q4'], 9)"
   ]
  },
  {
   "cell_type": "code",
   "execution_count": 254,
   "id": "355c9316",
   "metadata": {},
   "outputs": [
    {
     "data": {
      "text/plain": [
       "[0.32881049298959747,\n",
       " 0.31931252826775214,\n",
       " 0.32881049298959747,\n",
       " 0.3233830845771144,\n",
       " 0.3159203980099502,\n",
       " 0.3111714156490276,\n",
       " 0.2955030044582283,\n",
       " 0.29618143050978873,\n",
       " 0.29618143050978873]"
      ]
     },
     "execution_count": 254,
     "metadata": {},
     "output_type": "execute_result"
    }
   ],
   "source": [
    "answers['Q4']"
   ]
  },
  {
   "cell_type": "code",
   "execution_count": 255,
   "id": "8b455b96",
   "metadata": {},
   "outputs": [],
   "source": [
    "### Question 5\n",
    "# Based on these values, which classifier would you select (in terms of generalization performance)? Report\n",
    "# the best value of C and its performance (BER) on the test set."
   ]
  },
  {
   "cell_type": "code",
   "execution_count": 256,
   "id": "2a80d25e",
   "metadata": {},
   "outputs": [],
   "source": [
    "# Find the best value of C (the one with the lowest validation BER)\n",
    "bestC_index = np.argmin(berList)  # Get the index of the minimum BER\n",
    "bestC = C_values[bestC_index]  # Corresponding value of C\n",
    "\n",
    "# Retrain the model using the best value of C\n",
    "mod_best = linear_model.LogisticRegression(C=bestC, class_weight='balanced')\n",
    "mod_best.fit(Xtrain, ytrain)\n",
    "\n",
    "# Make predictions on the test set\n",
    "predTest = mod_best.predict(Xtest)\n",
    "\n",
    "# Calculate the BER on the test set\n",
    "ber5 = BER(predTest, ytest)"
   ]
  },
  {
   "cell_type": "code",
   "execution_count": 257,
   "id": "62bdaa25",
   "metadata": {},
   "outputs": [],
   "source": [
    "answers['Q5'] = [bestC, ber5]"
   ]
  },
  {
   "cell_type": "code",
   "execution_count": 258,
   "id": "b8cafe6e",
   "metadata": {},
   "outputs": [],
   "source": [
    "assertFloatList(answers['Q5'], 2)"
   ]
  },
  {
   "cell_type": "code",
   "execution_count": 259,
   "id": "68b1ce3a",
   "metadata": {},
   "outputs": [
    {
     "data": {
      "text/plain": [
       "[100, 0.26267123287671235]"
      ]
     },
     "execution_count": 259,
     "metadata": {},
     "output_type": "execute_result"
    }
   ],
   "source": [
    "answers['Q5']"
   ]
  },
  {
   "cell_type": "code",
   "execution_count": null,
   "id": "938579a4",
   "metadata": {},
   "outputs": [],
   "source": [
    "## Tasks — Recommendation:\n",
    "# For this question we’ll use the Goodreads book review data. The first 90% of the data should be used for training and the remaining 10% for evaluation (the stub shows how to split the data)."
   ]
  },
  {
   "cell_type": "code",
   "execution_count": 260,
   "id": "fcbc2e08",
   "metadata": {},
   "outputs": [],
   "source": [
    "### Question 6\n",
    "# Which 10 items have the highest Jaccard similarity compared to the first item (i.e., the item from the first\n",
    "# review, ‘2767052’)? Report both similarities and item IDs (your answer should be a list of (similarity,\n",
    "# item id) tuples). Note that the test data should not be used for this question."
   ]
  },
  {
   "cell_type": "code",
   "execution_count": 261,
   "id": "ace19c30",
   "metadata": {},
   "outputs": [],
   "source": [
    "f = gzip.open(\"young_adult_10000.json.gz\")\n",
    "dataset = []\n",
    "for l in f:\n",
    "    dataset.append(eval(l))"
   ]
  },
  {
   "cell_type": "code",
   "execution_count": 262,
   "id": "06598b0d",
   "metadata": {},
   "outputs": [],
   "source": [
    "dataTrain = dataset[:9000]\n",
    "dataTest = dataset[9000:]"
   ]
  },
  {
   "cell_type": "code",
   "execution_count": null,
   "id": "09f07e38",
   "metadata": {},
   "outputs": [],
   "source": []
  },
  {
   "cell_type": "code",
   "execution_count": 263,
   "id": "4209458b",
   "metadata": {},
   "outputs": [],
   "source": [
    "# Some data structures you might want\n",
    "\n",
    "usersPerItem = defaultdict(set) # Maps an item to the users who rated it\n",
    "itemsPerUser = defaultdict(set) # Maps a user to the items that they rated\n",
    "reviewsPerUser = defaultdict(list)\n",
    "reviewsPerItem = defaultdict(list)\n",
    "ratingDict = {} # To retrieve a rating for a specific user/item pair\n",
    "\n",
    "for d in dataTrain:\n",
    "    user = d['user_id']\n",
    "    item = d['book_id']\n",
    "    rating = d['rating']\n",
    "    \n",
    "    usersPerItem[item].add(user)\n",
    "    itemsPerUser[user].add(item)\n",
    "    reviewsPerItem[item].append(rating)\n",
    "    ratingDict[(user, item)] = rating"
   ]
  },
  {
   "cell_type": "code",
   "execution_count": 264,
   "id": "03c90f36",
   "metadata": {},
   "outputs": [],
   "source": [
    "def Jaccard(s1, s2):\n",
    "    if len(s1) == 0 and len(s2) == 0:\n",
    "        return 0\n",
    "    return len(s1 & s2) / len(s1 | s2)\n"
   ]
  },
  {
   "cell_type": "code",
   "execution_count": 265,
   "id": "25bfacf3",
   "metadata": {},
   "outputs": [],
   "source": [
    "def mostSimilar(i, N):\n",
    "    similarities = []\n",
    "    users_i = usersPerItem[i]  # Set of users who rated item i\n",
    "    \n",
    "    for item in usersPerItem:\n",
    "        if item == i:  # Skip comparing the item to itself\n",
    "            continue\n",
    "        users_j = usersPerItem[item]  # Set of users who rated item j\n",
    "        sim = Jaccard(users_i, users_j)  # Calculate Jaccard similarity\n",
    "        similarities.append((sim, item))\n",
    "    \n",
    "    # Sort by similarity in descending order and return the top N\n",
    "    similarities.sort(reverse=True, key=lambda x: x[0])\n",
    "    return similarities[:N]"
   ]
  },
  {
   "cell_type": "code",
   "execution_count": null,
   "id": "d6d0a380",
   "metadata": {},
   "outputs": [],
   "source": []
  },
  {
   "cell_type": "code",
   "execution_count": 266,
   "id": "2652a90d",
   "metadata": {},
   "outputs": [],
   "source": [
    "answers['Q6'] = mostSimilar('2767052', 10)"
   ]
  },
  {
   "cell_type": "code",
   "execution_count": 267,
   "id": "35457af6",
   "metadata": {},
   "outputs": [],
   "source": [
    "assert len(answers['Q6']) == 10\n",
    "assertFloatList([x[0] for x in answers['Q6']], 10)"
   ]
  },
  {
   "cell_type": "code",
   "execution_count": 268,
   "id": "80b0a883",
   "metadata": {},
   "outputs": [
    {
     "data": {
      "text/plain": [
       "[(0.4125, '6148028'),\n",
       " (0.3411764705882353, '7260188'),\n",
       " (0.1590909090909091, '256683'),\n",
       " (0.1375, '1162543'),\n",
       " (0.11494252873563218, '11735983'),\n",
       " (0.10989010989010989, '13335037'),\n",
       " (0.10810810810810811, '28187'),\n",
       " (0.10666666666666667, '428263'),\n",
       " (0.09876543209876543, '49041'),\n",
       " (0.09782608695652174, '41865')]"
      ]
     },
     "execution_count": 268,
     "metadata": {},
     "output_type": "execute_result"
    }
   ],
   "source": [
    "answers['Q6']"
   ]
  },
  {
   "cell_type": "code",
   "execution_count": 269,
   "id": "69798ea6",
   "metadata": {},
   "outputs": [],
   "source": [
    "### Question 7\n",
    "# Implement a rating prediction model based on the similarity function\n",
    "#(there is already a prediction function similar to this in the provided example code, you can either start\n",
    "# from scratch or modify an existing solution). Report the MSE (on the test set) of this rating prediction\n",
    "# function when Sim(i, j) = Jaccard(i, j)."
   ]
  },
  {
   "cell_type": "code",
   "execution_count": 270,
   "id": "1b26a247",
   "metadata": {},
   "outputs": [],
   "source": [
    "# training set"
   ]
  },
  {
   "cell_type": "code",
   "execution_count": 271,
   "id": "5fb4cacf",
   "metadata": {},
   "outputs": [],
   "source": [
    "itemAverages = {}\n",
    "globalAverage = np.mean([d['rating'] for d in dataTrain])  # Global average if an item is unseen\n",
    "for item in reviewsPerItem:\n",
    "    itemAverages[item] = np.mean(reviewsPerItem[item])\n"
   ]
  },
  {
   "cell_type": "code",
   "execution_count": 272,
   "id": "73d0424e",
   "metadata": {},
   "outputs": [],
   "source": [
    "def Jaccard(item1, item2):\n",
    "    users1 = usersPerItem[item1]\n",
    "    users2 = usersPerItem[item2]\n",
    "    if len(users1) == 0 or len(users2) == 0:\n",
    "        return 0\n",
    "    return len(users1 & users2) / len(users1 | users2)"
   ]
  },
  {
   "cell_type": "code",
   "execution_count": 273,
   "id": "fff3d1ef",
   "metadata": {},
   "outputs": [],
   "source": [
    "def predictRating(user, item):\n",
    "    if item in itemAverages:\n",
    "        R_bar_i = itemAverages[item]  # Item average for the current item\n",
    "    else:\n",
    "        R_bar_i = globalAverage  # Use global average if item not in training\n",
    "\n",
    "    numerator = 0.0\n",
    "    denominator = 0.0\n",
    "\n",
    "    for j in itemsPerUser[user]:  # Iterate over items rated by the user\n",
    "        if j == item:  # Skip the target item\n",
    "            continue\n",
    "\n",
    "        Sim_ij = Jaccard(item, j)  # Jaccard similarity between item i and item j\n",
    "        if Sim_ij > 0:  # Only consider positive similarities\n",
    "            R_uj = ratingDict[(user, j)]  # Rating of user for item j\n",
    "            R_bar_j = itemAverages.get(j, globalAverage)  # Average rating of item j\n",
    "\n",
    "            numerator += (R_uj - R_bar_j) * Sim_ij\n",
    "            denominator += Sim_ij\n",
    "\n",
    "    if denominator > 0:\n",
    "        return R_bar_i + (numerator / denominator)\n",
    "    else:\n",
    "        return R_bar_i"
   ]
  },
  {
   "cell_type": "code",
   "execution_count": 274,
   "id": "825ccbe5",
   "metadata": {},
   "outputs": [],
   "source": [
    "# test set"
   ]
  },
  {
   "cell_type": "code",
   "execution_count": 275,
   "id": "9ec9af54",
   "metadata": {},
   "outputs": [],
   "source": [
    "testPredictions = []\n",
    "testTrueRatings = []\n",
    "\n",
    "for d in dataTest:\n",
    "    user = d['user_id']\n",
    "    item = d['book_id']\n",
    "    trueRating = d['rating']\n",
    "\n",
    "    # Only predict if the user exists in training set (cold start problem)\n",
    "    if user in itemsPerUser:\n",
    "        predictedRating = predictRating(user, item)\n",
    "    else:\n",
    "        predictedRating = globalAverage  # Use global average if user not in training\n",
    "\n",
    "    testPredictions.append(predictedRating)\n",
    "    testTrueRatings.append(trueRating)"
   ]
  },
  {
   "cell_type": "code",
   "execution_count": 276,
   "id": "6fffefa4",
   "metadata": {},
   "outputs": [],
   "source": [
    "mse7 = mean_squared_error(testTrueRatings, testPredictions)"
   ]
  },
  {
   "cell_type": "code",
   "execution_count": 277,
   "id": "0e3f9a1b",
   "metadata": {},
   "outputs": [],
   "source": [
    "answers['Q7'] = mse7"
   ]
  },
  {
   "cell_type": "code",
   "execution_count": 278,
   "id": "f7d294f2",
   "metadata": {},
   "outputs": [],
   "source": [
    "assertFloat(answers['Q7'])"
   ]
  },
  {
   "cell_type": "code",
   "execution_count": 279,
   "id": "41eeb1d1",
   "metadata": {},
   "outputs": [
    {
     "data": {
      "text/plain": [
       "1.2448714881369496"
      ]
     },
     "execution_count": 279,
     "metadata": {},
     "output_type": "execute_result"
    }
   ],
   "source": [
    "answers['Q7']"
   ]
  },
  {
   "cell_type": "code",
   "execution_count": 280,
   "id": "088d0836",
   "metadata": {},
   "outputs": [],
   "source": [
    "### Question 8\n",
    "# Modify the similarity function from Question 7 to interchange users and items (i.e., in terms of the\n",
    "# similarity between users Sim(u, v) rather than Sim(i, j)), and report its MSE on the test data."
   ]
  },
  {
   "cell_type": "code",
   "execution_count": 281,
   "id": "9de35dbe",
   "metadata": {},
   "outputs": [],
   "source": [
    "# training set"
   ]
  },
  {
   "cell_type": "code",
   "execution_count": 282,
   "id": "d176e1e7",
   "metadata": {},
   "outputs": [],
   "source": [
    "usersPerItem = defaultdict(set)  # Maps an item to the users who rated it\n",
    "itemsPerUser = defaultdict(set)  # Maps a user to the items that they rated\n",
    "ratingsPerUser = defaultdict(list)  # Stores ratings for each user\n",
    "ratingDict = {}"
   ]
  },
  {
   "cell_type": "code",
   "execution_count": 283,
   "id": "6bc91365",
   "metadata": {},
   "outputs": [],
   "source": [
    "for d in dataTrain:\n",
    "    user = d['user_id']\n",
    "    item = d['book_id']\n",
    "    rating = d['rating']\n",
    "    \n",
    "    usersPerItem[item].add(user)\n",
    "    itemsPerUser[user].add(item)\n",
    "    reviewsPerUser[user].append(rating)\n",
    "    ratingDict[(user, item)] = rating"
   ]
  },
  {
   "cell_type": "code",
   "execution_count": 284,
   "id": "4b572aa9",
   "metadata": {},
   "outputs": [],
   "source": [
    "itemAverages = {}\n",
    "globalAverage = np.mean([d['rating'] for d in dataTrain])  # Global average if an item is unseen\n",
    "for item in usersPerItem:\n",
    "    itemAverages[item] = np.mean([ratingDict[(user, item)] for user in usersPerItem[item]])"
   ]
  },
  {
   "cell_type": "code",
   "execution_count": 285,
   "id": "18b75daa",
   "metadata": {},
   "outputs": [],
   "source": [
    "def Jaccard(user1, user2):\n",
    "    items1 = itemsPerUser[user1]\n",
    "    items2 = itemsPerUser[user2]\n",
    "    if len(items1) == 0 or len(items2) == 0:\n",
    "        return 0\n",
    "    return len(items1 & items2) / len(items1 | items2)"
   ]
  },
  {
   "cell_type": "code",
   "execution_count": 286,
   "id": "781abe2c",
   "metadata": {},
   "outputs": [],
   "source": [
    "# Rating prediction function using user-user similarity\n",
    "def predictRating(user, item):\n",
    "    if item in itemAverages:\n",
    "        R_bar_i = itemAverages[item]  # Item average for the current item\n",
    "    else:\n",
    "        R_bar_i = globalAverage  # Use global average if item not in training\n",
    "\n",
    "    numerator = 0.0\n",
    "    denominator = 0.0\n",
    "\n",
    "    # Iterate over users who rated the item\n",
    "    for other_user in usersPerItem[item]:\n",
    "        if other_user == user:  # Skip the target user\n",
    "            continue\n",
    "\n",
    "        Sim_uv = Jaccard(user, other_user)  # Jaccard similarity between users u and v\n",
    "        if Sim_uv > 0:  # Only consider positive similarities\n",
    "            R_vj = ratingDict[(other_user, item)]  # Rating of other user for the same item\n",
    "            R_bar_v = np.mean(reviewsPerUser[other_user])  # Average rating of other user\n",
    "\n",
    "            numerator += (R_vj - R_bar_v) * Sim_uv\n",
    "            denominator += Sim_uv\n",
    "\n",
    "    if denominator > 0:\n",
    "        return R_bar_i + (numerator / denominator)\n",
    "    else:\n",
    "        return R_bar_i"
   ]
  },
  {
   "cell_type": "code",
   "execution_count": 287,
   "id": "611b2bbe",
   "metadata": {},
   "outputs": [],
   "source": [
    "# test set"
   ]
  },
  {
   "cell_type": "code",
   "execution_count": 288,
   "id": "cc0fcae6",
   "metadata": {},
   "outputs": [],
   "source": [
    "testPredictions = []\n",
    "testTrueRatings = []"
   ]
  },
  {
   "cell_type": "code",
   "execution_count": 289,
   "id": "56ece9e8",
   "metadata": {},
   "outputs": [],
   "source": [
    "for d in dataTest:\n",
    "    user = d['user_id']\n",
    "    item = d['book_id']\n",
    "    trueRating = d['rating']\n",
    "\n",
    "    # Only predict if the user exists in training set (cold start problem)\n",
    "    if user in itemsPerUser:\n",
    "        predictedRating = predictRating(user, item)\n",
    "    else:\n",
    "        predictedRating = globalAverage  # Use global average if user not in training\n",
    "\n",
    "    testPredictions.append(predictedRating)\n",
    "    testTrueRatings.append(trueRating)"
   ]
  },
  {
   "cell_type": "code",
   "execution_count": 290,
   "id": "8f738bae",
   "metadata": {},
   "outputs": [],
   "source": [
    "mse8 = mean_squared_error(testTrueRatings, testPredictions)"
   ]
  },
  {
   "cell_type": "code",
   "execution_count": 291,
   "id": "2461deb6",
   "metadata": {},
   "outputs": [],
   "source": [
    "answers['Q8'] = mse8"
   ]
  },
  {
   "cell_type": "code",
   "execution_count": 292,
   "id": "def088ef",
   "metadata": {},
   "outputs": [],
   "source": [
    "assertFloat(answers['Q8'])"
   ]
  },
  {
   "cell_type": "code",
   "execution_count": 293,
   "id": "f96b2e61",
   "metadata": {},
   "outputs": [
    {
     "data": {
      "text/plain": [
       "1.2519439058517665"
      ]
     },
     "execution_count": 293,
     "metadata": {},
     "output_type": "execute_result"
    }
   ],
   "source": [
    "answers['Q8']"
   ]
  },
  {
   "cell_type": "code",
   "execution_count": 294,
   "id": "f534c8b8",
   "metadata": {},
   "outputs": [],
   "source": [
    "f = open(\"answers_hw2.txt\", 'w')\n",
    "f.write(str(answers) + '\\n')\n",
    "f.close()"
   ]
  },
  {
   "cell_type": "code",
   "execution_count": null,
   "id": "eb717703",
   "metadata": {},
   "outputs": [],
   "source": []
  }
 ],
 "metadata": {
  "kernelspec": {
   "display_name": "base",
   "language": "python",
   "name": "python3"
  },
  "language_info": {
   "codemirror_mode": {
    "name": "ipython",
    "version": 3
   },
   "file_extension": ".py",
   "mimetype": "text/x-python",
   "name": "python",
   "nbconvert_exporter": "python",
   "pygments_lexer": "ipython3",
   "version": "3.11.9"
  }
 },
 "nbformat": 4,
 "nbformat_minor": 5
}
