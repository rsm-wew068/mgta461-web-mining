{
 "cells": [
  {
   "cell_type": "code",
   "execution_count": 82,
   "id": "8fadc0b4",
   "metadata": {},
   "outputs": [],
   "source": [
    "import json\n",
    "import gzip\n",
    "import math\n",
    "import numpy as np\n",
    "from collections import defaultdict\n",
    "from sklearn import linear_model\n",
    "import random\n",
    "import statistics\n",
    "from sklearn.linear_model import LogisticRegression\n",
    "from sklearn.linear_model import LinearRegression\n",
    "from sklearn.metrics import mean_squared_error"
   ]
  },
  {
   "cell_type": "code",
   "execution_count": 83,
   "id": "bcdcf1eb",
   "metadata": {},
   "outputs": [],
   "source": [
    "def assertFloat(x):\n",
    "    assert type(float(x)) == float\n",
    "\n",
    "def assertFloatList(items, N):\n",
    "    assert len(items) == N\n",
    "    assert [type(float(x)) for x in items] == [float]*N"
   ]
  },
  {
   "cell_type": "code",
   "execution_count": 84,
   "id": "42a8d119",
   "metadata": {},
   "outputs": [],
   "source": [
    "answers = {}"
   ]
  },
  {
   "cell_type": "code",
   "execution_count": 85,
   "id": "83a6d4b5",
   "metadata": {},
   "outputs": [],
   "source": [
    "# From https://cseweb.ucsd.edu/classes/fa24/cse258-b/files/steam.json.gz\n",
    "z = gzip.open(\"steam.json.gz\")"
   ]
  },
  {
   "cell_type": "markdown",
   "id": "c1d655d6",
   "metadata": {},
   "source": [
    "Each data point consists of a record of a video game review. A few relevant fields include:\n",
    "userID, gameID The ID of the user and the game.\n",
    "hours The amount of time the user played the game.\n",
    "hours transformed log2\n",
    "(hours + 1); i.e., the above, log-transformed.\n",
    "text The text of the user’s review."
   ]
  },
  {
   "cell_type": "code",
   "execution_count": 86,
   "id": "0d2ef14c",
   "metadata": {},
   "outputs": [],
   "source": [
    "dataset = []\n",
    "for l in z:\n",
    "    d = eval(l)\n",
    "    dataset.append(d)"
   ]
  },
  {
   "cell_type": "code",
   "execution_count": 87,
   "id": "9fd92527",
   "metadata": {},
   "outputs": [
    {
     "data": {
      "text/plain": [
       "{'hours': 0.3,\n",
       " 'gameID': 'g35322304',\n",
       " 'hours_transformed': 0.37851162325372983,\n",
       " 'early_access': False,\n",
       " 'date': '2015-04-08',\n",
       " 'text': '+1',\n",
       " 'userID': 'u55351001'}"
      ]
     },
     "execution_count": 87,
     "metadata": {},
     "output_type": "execute_result"
    }
   ],
   "source": [
    "dataset[0]"
   ]
  },
  {
   "cell_type": "code",
   "execution_count": 88,
   "id": "46a06fd5",
   "metadata": {},
   "outputs": [],
   "source": [
    "z.close()"
   ]
  },
  {
   "cell_type": "markdown",
   "id": "f638e1d3",
   "metadata": {},
   "source": [
    "## Section 1: Regression"
   ]
  },
  {
   "cell_type": "markdown",
   "id": "2d010ba9",
   "metadata": {},
   "source": [
    "### Question 1\n",
    "Fit a linear regressor of the form\n",
    "time played = θ0 + θ1˙(review length)\n",
    "where the review length is the number of characters in the review (i.e., len(d[’text’])) and ‘hours’ is\n",
    "the original (i.e., not transformed) hours variable.\n",
    "Report the value of θ1 and the Mean Squared Error of the prediction.\n",
    "Be careful to use fit intercept=’False’ if manually including an offset feature"
   ]
  },
  {
   "cell_type": "code",
   "execution_count": 89,
   "id": "c37e48b0",
   "metadata": {},
   "outputs": [],
   "source": [
    "def MSE(y, y_pred):\n",
    "    return mean_squared_error(y, y_pred)"
   ]
  },
  {
   "cell_type": "code",
   "execution_count": 90,
   "id": "d90c72f8",
   "metadata": {},
   "outputs": [],
   "source": [
    "def feat1(d):\n",
    "    return len(d['text'])"
   ]
  },
  {
   "cell_type": "code",
   "execution_count": 91,
   "id": "69206c45",
   "metadata": {},
   "outputs": [],
   "source": [
    "X = [[1, feat1(d)] for d in dataset]  # X has an additional '1' as the dummy feature\n",
    "y = [d['hours'] for d in dataset]     # y is the list of hours played"
   ]
  },
  {
   "cell_type": "code",
   "execution_count": 92,
   "id": "b74b4f96",
   "metadata": {},
   "outputs": [
    {
     "data": {
      "text/html": [
       "<style>#sk-container-id-3 {\n",
       "  /* Definition of color scheme common for light and dark mode */\n",
       "  --sklearn-color-text: black;\n",
       "  --sklearn-color-line: gray;\n",
       "  /* Definition of color scheme for unfitted estimators */\n",
       "  --sklearn-color-unfitted-level-0: #fff5e6;\n",
       "  --sklearn-color-unfitted-level-1: #f6e4d2;\n",
       "  --sklearn-color-unfitted-level-2: #ffe0b3;\n",
       "  --sklearn-color-unfitted-level-3: chocolate;\n",
       "  /* Definition of color scheme for fitted estimators */\n",
       "  --sklearn-color-fitted-level-0: #f0f8ff;\n",
       "  --sklearn-color-fitted-level-1: #d4ebff;\n",
       "  --sklearn-color-fitted-level-2: #b3dbfd;\n",
       "  --sklearn-color-fitted-level-3: cornflowerblue;\n",
       "\n",
       "  /* Specific color for light theme */\n",
       "  --sklearn-color-text-on-default-background: var(--sg-text-color, var(--theme-code-foreground, var(--jp-content-font-color1, black)));\n",
       "  --sklearn-color-background: var(--sg-background-color, var(--theme-background, var(--jp-layout-color0, white)));\n",
       "  --sklearn-color-border-box: var(--sg-text-color, var(--theme-code-foreground, var(--jp-content-font-color1, black)));\n",
       "  --sklearn-color-icon: #696969;\n",
       "\n",
       "  @media (prefers-color-scheme: dark) {\n",
       "    /* Redefinition of color scheme for dark theme */\n",
       "    --sklearn-color-text-on-default-background: var(--sg-text-color, var(--theme-code-foreground, var(--jp-content-font-color1, white)));\n",
       "    --sklearn-color-background: var(--sg-background-color, var(--theme-background, var(--jp-layout-color0, #111)));\n",
       "    --sklearn-color-border-box: var(--sg-text-color, var(--theme-code-foreground, var(--jp-content-font-color1, white)));\n",
       "    --sklearn-color-icon: #878787;\n",
       "  }\n",
       "}\n",
       "\n",
       "#sk-container-id-3 {\n",
       "  color: var(--sklearn-color-text);\n",
       "}\n",
       "\n",
       "#sk-container-id-3 pre {\n",
       "  padding: 0;\n",
       "}\n",
       "\n",
       "#sk-container-id-3 input.sk-hidden--visually {\n",
       "  border: 0;\n",
       "  clip: rect(1px 1px 1px 1px);\n",
       "  clip: rect(1px, 1px, 1px, 1px);\n",
       "  height: 1px;\n",
       "  margin: -1px;\n",
       "  overflow: hidden;\n",
       "  padding: 0;\n",
       "  position: absolute;\n",
       "  width: 1px;\n",
       "}\n",
       "\n",
       "#sk-container-id-3 div.sk-dashed-wrapped {\n",
       "  border: 1px dashed var(--sklearn-color-line);\n",
       "  margin: 0 0.4em 0.5em 0.4em;\n",
       "  box-sizing: border-box;\n",
       "  padding-bottom: 0.4em;\n",
       "  background-color: var(--sklearn-color-background);\n",
       "}\n",
       "\n",
       "#sk-container-id-3 div.sk-container {\n",
       "  /* jupyter's `normalize.less` sets `[hidden] { display: none; }`\n",
       "     but bootstrap.min.css set `[hidden] { display: none !important; }`\n",
       "     so we also need the `!important` here to be able to override the\n",
       "     default hidden behavior on the sphinx rendered scikit-learn.org.\n",
       "     See: https://github.com/scikit-learn/scikit-learn/issues/21755 */\n",
       "  display: inline-block !important;\n",
       "  position: relative;\n",
       "}\n",
       "\n",
       "#sk-container-id-3 div.sk-text-repr-fallback {\n",
       "  display: none;\n",
       "}\n",
       "\n",
       "div.sk-parallel-item,\n",
       "div.sk-serial,\n",
       "div.sk-item {\n",
       "  /* draw centered vertical line to link estimators */\n",
       "  background-image: linear-gradient(var(--sklearn-color-text-on-default-background), var(--sklearn-color-text-on-default-background));\n",
       "  background-size: 2px 100%;\n",
       "  background-repeat: no-repeat;\n",
       "  background-position: center center;\n",
       "}\n",
       "\n",
       "/* Parallel-specific style estimator block */\n",
       "\n",
       "#sk-container-id-3 div.sk-parallel-item::after {\n",
       "  content: \"\";\n",
       "  width: 100%;\n",
       "  border-bottom: 2px solid var(--sklearn-color-text-on-default-background);\n",
       "  flex-grow: 1;\n",
       "}\n",
       "\n",
       "#sk-container-id-3 div.sk-parallel {\n",
       "  display: flex;\n",
       "  align-items: stretch;\n",
       "  justify-content: center;\n",
       "  background-color: var(--sklearn-color-background);\n",
       "  position: relative;\n",
       "}\n",
       "\n",
       "#sk-container-id-3 div.sk-parallel-item {\n",
       "  display: flex;\n",
       "  flex-direction: column;\n",
       "}\n",
       "\n",
       "#sk-container-id-3 div.sk-parallel-item:first-child::after {\n",
       "  align-self: flex-end;\n",
       "  width: 50%;\n",
       "}\n",
       "\n",
       "#sk-container-id-3 div.sk-parallel-item:last-child::after {\n",
       "  align-self: flex-start;\n",
       "  width: 50%;\n",
       "}\n",
       "\n",
       "#sk-container-id-3 div.sk-parallel-item:only-child::after {\n",
       "  width: 0;\n",
       "}\n",
       "\n",
       "/* Serial-specific style estimator block */\n",
       "\n",
       "#sk-container-id-3 div.sk-serial {\n",
       "  display: flex;\n",
       "  flex-direction: column;\n",
       "  align-items: center;\n",
       "  background-color: var(--sklearn-color-background);\n",
       "  padding-right: 1em;\n",
       "  padding-left: 1em;\n",
       "}\n",
       "\n",
       "\n",
       "/* Toggleable style: style used for estimator/Pipeline/ColumnTransformer box that is\n",
       "clickable and can be expanded/collapsed.\n",
       "- Pipeline and ColumnTransformer use this feature and define the default style\n",
       "- Estimators will overwrite some part of the style using the `sk-estimator` class\n",
       "*/\n",
       "\n",
       "/* Pipeline and ColumnTransformer style (default) */\n",
       "\n",
       "#sk-container-id-3 div.sk-toggleable {\n",
       "  /* Default theme specific background. It is overwritten whether we have a\n",
       "  specific estimator or a Pipeline/ColumnTransformer */\n",
       "  background-color: var(--sklearn-color-background);\n",
       "}\n",
       "\n",
       "/* Toggleable label */\n",
       "#sk-container-id-3 label.sk-toggleable__label {\n",
       "  cursor: pointer;\n",
       "  display: block;\n",
       "  width: 100%;\n",
       "  margin-bottom: 0;\n",
       "  padding: 0.5em;\n",
       "  box-sizing: border-box;\n",
       "  text-align: center;\n",
       "}\n",
       "\n",
       "#sk-container-id-3 label.sk-toggleable__label-arrow:before {\n",
       "  /* Arrow on the left of the label */\n",
       "  content: \"▸\";\n",
       "  float: left;\n",
       "  margin-right: 0.25em;\n",
       "  color: var(--sklearn-color-icon);\n",
       "}\n",
       "\n",
       "#sk-container-id-3 label.sk-toggleable__label-arrow:hover:before {\n",
       "  color: var(--sklearn-color-text);\n",
       "}\n",
       "\n",
       "/* Toggleable content - dropdown */\n",
       "\n",
       "#sk-container-id-3 div.sk-toggleable__content {\n",
       "  max-height: 0;\n",
       "  max-width: 0;\n",
       "  overflow: hidden;\n",
       "  text-align: left;\n",
       "  /* unfitted */\n",
       "  background-color: var(--sklearn-color-unfitted-level-0);\n",
       "}\n",
       "\n",
       "#sk-container-id-3 div.sk-toggleable__content.fitted {\n",
       "  /* fitted */\n",
       "  background-color: var(--sklearn-color-fitted-level-0);\n",
       "}\n",
       "\n",
       "#sk-container-id-3 div.sk-toggleable__content pre {\n",
       "  margin: 0.2em;\n",
       "  border-radius: 0.25em;\n",
       "  color: var(--sklearn-color-text);\n",
       "  /* unfitted */\n",
       "  background-color: var(--sklearn-color-unfitted-level-0);\n",
       "}\n",
       "\n",
       "#sk-container-id-3 div.sk-toggleable__content.fitted pre {\n",
       "  /* unfitted */\n",
       "  background-color: var(--sklearn-color-fitted-level-0);\n",
       "}\n",
       "\n",
       "#sk-container-id-3 input.sk-toggleable__control:checked~div.sk-toggleable__content {\n",
       "  /* Expand drop-down */\n",
       "  max-height: 200px;\n",
       "  max-width: 100%;\n",
       "  overflow: auto;\n",
       "}\n",
       "\n",
       "#sk-container-id-3 input.sk-toggleable__control:checked~label.sk-toggleable__label-arrow:before {\n",
       "  content: \"▾\";\n",
       "}\n",
       "\n",
       "/* Pipeline/ColumnTransformer-specific style */\n",
       "\n",
       "#sk-container-id-3 div.sk-label input.sk-toggleable__control:checked~label.sk-toggleable__label {\n",
       "  color: var(--sklearn-color-text);\n",
       "  background-color: var(--sklearn-color-unfitted-level-2);\n",
       "}\n",
       "\n",
       "#sk-container-id-3 div.sk-label.fitted input.sk-toggleable__control:checked~label.sk-toggleable__label {\n",
       "  background-color: var(--sklearn-color-fitted-level-2);\n",
       "}\n",
       "\n",
       "/* Estimator-specific style */\n",
       "\n",
       "/* Colorize estimator box */\n",
       "#sk-container-id-3 div.sk-estimator input.sk-toggleable__control:checked~label.sk-toggleable__label {\n",
       "  /* unfitted */\n",
       "  background-color: var(--sklearn-color-unfitted-level-2);\n",
       "}\n",
       "\n",
       "#sk-container-id-3 div.sk-estimator.fitted input.sk-toggleable__control:checked~label.sk-toggleable__label {\n",
       "  /* fitted */\n",
       "  background-color: var(--sklearn-color-fitted-level-2);\n",
       "}\n",
       "\n",
       "#sk-container-id-3 div.sk-label label.sk-toggleable__label,\n",
       "#sk-container-id-3 div.sk-label label {\n",
       "  /* The background is the default theme color */\n",
       "  color: var(--sklearn-color-text-on-default-background);\n",
       "}\n",
       "\n",
       "/* On hover, darken the color of the background */\n",
       "#sk-container-id-3 div.sk-label:hover label.sk-toggleable__label {\n",
       "  color: var(--sklearn-color-text);\n",
       "  background-color: var(--sklearn-color-unfitted-level-2);\n",
       "}\n",
       "\n",
       "/* Label box, darken color on hover, fitted */\n",
       "#sk-container-id-3 div.sk-label.fitted:hover label.sk-toggleable__label.fitted {\n",
       "  color: var(--sklearn-color-text);\n",
       "  background-color: var(--sklearn-color-fitted-level-2);\n",
       "}\n",
       "\n",
       "/* Estimator label */\n",
       "\n",
       "#sk-container-id-3 div.sk-label label {\n",
       "  font-family: monospace;\n",
       "  font-weight: bold;\n",
       "  display: inline-block;\n",
       "  line-height: 1.2em;\n",
       "}\n",
       "\n",
       "#sk-container-id-3 div.sk-label-container {\n",
       "  text-align: center;\n",
       "}\n",
       "\n",
       "/* Estimator-specific */\n",
       "#sk-container-id-3 div.sk-estimator {\n",
       "  font-family: monospace;\n",
       "  border: 1px dotted var(--sklearn-color-border-box);\n",
       "  border-radius: 0.25em;\n",
       "  box-sizing: border-box;\n",
       "  margin-bottom: 0.5em;\n",
       "  /* unfitted */\n",
       "  background-color: var(--sklearn-color-unfitted-level-0);\n",
       "}\n",
       "\n",
       "#sk-container-id-3 div.sk-estimator.fitted {\n",
       "  /* fitted */\n",
       "  background-color: var(--sklearn-color-fitted-level-0);\n",
       "}\n",
       "\n",
       "/* on hover */\n",
       "#sk-container-id-3 div.sk-estimator:hover {\n",
       "  /* unfitted */\n",
       "  background-color: var(--sklearn-color-unfitted-level-2);\n",
       "}\n",
       "\n",
       "#sk-container-id-3 div.sk-estimator.fitted:hover {\n",
       "  /* fitted */\n",
       "  background-color: var(--sklearn-color-fitted-level-2);\n",
       "}\n",
       "\n",
       "/* Specification for estimator info (e.g. \"i\" and \"?\") */\n",
       "\n",
       "/* Common style for \"i\" and \"?\" */\n",
       "\n",
       ".sk-estimator-doc-link,\n",
       "a:link.sk-estimator-doc-link,\n",
       "a:visited.sk-estimator-doc-link {\n",
       "  float: right;\n",
       "  font-size: smaller;\n",
       "  line-height: 1em;\n",
       "  font-family: monospace;\n",
       "  background-color: var(--sklearn-color-background);\n",
       "  border-radius: 1em;\n",
       "  height: 1em;\n",
       "  width: 1em;\n",
       "  text-decoration: none !important;\n",
       "  margin-left: 1ex;\n",
       "  /* unfitted */\n",
       "  border: var(--sklearn-color-unfitted-level-1) 1pt solid;\n",
       "  color: var(--sklearn-color-unfitted-level-1);\n",
       "}\n",
       "\n",
       ".sk-estimator-doc-link.fitted,\n",
       "a:link.sk-estimator-doc-link.fitted,\n",
       "a:visited.sk-estimator-doc-link.fitted {\n",
       "  /* fitted */\n",
       "  border: var(--sklearn-color-fitted-level-1) 1pt solid;\n",
       "  color: var(--sklearn-color-fitted-level-1);\n",
       "}\n",
       "\n",
       "/* On hover */\n",
       "div.sk-estimator:hover .sk-estimator-doc-link:hover,\n",
       ".sk-estimator-doc-link:hover,\n",
       "div.sk-label-container:hover .sk-estimator-doc-link:hover,\n",
       ".sk-estimator-doc-link:hover {\n",
       "  /* unfitted */\n",
       "  background-color: var(--sklearn-color-unfitted-level-3);\n",
       "  color: var(--sklearn-color-background);\n",
       "  text-decoration: none;\n",
       "}\n",
       "\n",
       "div.sk-estimator.fitted:hover .sk-estimator-doc-link.fitted:hover,\n",
       ".sk-estimator-doc-link.fitted:hover,\n",
       "div.sk-label-container:hover .sk-estimator-doc-link.fitted:hover,\n",
       ".sk-estimator-doc-link.fitted:hover {\n",
       "  /* fitted */\n",
       "  background-color: var(--sklearn-color-fitted-level-3);\n",
       "  color: var(--sklearn-color-background);\n",
       "  text-decoration: none;\n",
       "}\n",
       "\n",
       "/* Span, style for the box shown on hovering the info icon */\n",
       ".sk-estimator-doc-link span {\n",
       "  display: none;\n",
       "  z-index: 9999;\n",
       "  position: relative;\n",
       "  font-weight: normal;\n",
       "  right: .2ex;\n",
       "  padding: .5ex;\n",
       "  margin: .5ex;\n",
       "  width: min-content;\n",
       "  min-width: 20ex;\n",
       "  max-width: 50ex;\n",
       "  color: var(--sklearn-color-text);\n",
       "  box-shadow: 2pt 2pt 4pt #999;\n",
       "  /* unfitted */\n",
       "  background: var(--sklearn-color-unfitted-level-0);\n",
       "  border: .5pt solid var(--sklearn-color-unfitted-level-3);\n",
       "}\n",
       "\n",
       ".sk-estimator-doc-link.fitted span {\n",
       "  /* fitted */\n",
       "  background: var(--sklearn-color-fitted-level-0);\n",
       "  border: var(--sklearn-color-fitted-level-3);\n",
       "}\n",
       "\n",
       ".sk-estimator-doc-link:hover span {\n",
       "  display: block;\n",
       "}\n",
       "\n",
       "/* \"?\"-specific style due to the `<a>` HTML tag */\n",
       "\n",
       "#sk-container-id-3 a.estimator_doc_link {\n",
       "  float: right;\n",
       "  font-size: 1rem;\n",
       "  line-height: 1em;\n",
       "  font-family: monospace;\n",
       "  background-color: var(--sklearn-color-background);\n",
       "  border-radius: 1rem;\n",
       "  height: 1rem;\n",
       "  width: 1rem;\n",
       "  text-decoration: none;\n",
       "  /* unfitted */\n",
       "  color: var(--sklearn-color-unfitted-level-1);\n",
       "  border: var(--sklearn-color-unfitted-level-1) 1pt solid;\n",
       "}\n",
       "\n",
       "#sk-container-id-3 a.estimator_doc_link.fitted {\n",
       "  /* fitted */\n",
       "  border: var(--sklearn-color-fitted-level-1) 1pt solid;\n",
       "  color: var(--sklearn-color-fitted-level-1);\n",
       "}\n",
       "\n",
       "/* On hover */\n",
       "#sk-container-id-3 a.estimator_doc_link:hover {\n",
       "  /* unfitted */\n",
       "  background-color: var(--sklearn-color-unfitted-level-3);\n",
       "  color: var(--sklearn-color-background);\n",
       "  text-decoration: none;\n",
       "}\n",
       "\n",
       "#sk-container-id-3 a.estimator_doc_link.fitted:hover {\n",
       "  /* fitted */\n",
       "  background-color: var(--sklearn-color-fitted-level-3);\n",
       "}\n",
       "</style><div id=\"sk-container-id-3\" class=\"sk-top-container\"><div class=\"sk-text-repr-fallback\"><pre>LinearRegression(fit_intercept=False)</pre><b>In a Jupyter environment, please rerun this cell to show the HTML representation or trust the notebook. <br />On GitHub, the HTML representation is unable to render, please try loading this page with nbviewer.org.</b></div><div class=\"sk-container\" hidden><div class=\"sk-item\"><div class=\"sk-estimator fitted sk-toggleable\"><input class=\"sk-toggleable__control sk-hidden--visually\" id=\"sk-estimator-id-3\" type=\"checkbox\" checked><label for=\"sk-estimator-id-3\" class=\"sk-toggleable__label fitted sk-toggleable__label-arrow fitted\">&nbsp;&nbsp;LinearRegression<a class=\"sk-estimator-doc-link fitted\" rel=\"noreferrer\" target=\"_blank\" href=\"https://scikit-learn.org/1.5/modules/generated/sklearn.linear_model.LinearRegression.html\">?<span>Documentation for LinearRegression</span></a><span class=\"sk-estimator-doc-link fitted\">i<span>Fitted</span></span></label><div class=\"sk-toggleable__content fitted\"><pre>LinearRegression(fit_intercept=False)</pre></div> </div></div></div></div>"
      ],
      "text/plain": [
       "LinearRegression(fit_intercept=False)"
      ]
     },
     "execution_count": 92,
     "metadata": {},
     "output_type": "execute_result"
    }
   ],
   "source": [
    "mod = LinearRegression(fit_intercept=False)\n",
    "mod.fit(X, y)"
   ]
  },
  {
   "cell_type": "code",
   "execution_count": 93,
   "id": "6ed47adc",
   "metadata": {},
   "outputs": [],
   "source": [
    "y_pred = mod.predict(X)\n",
    "mse1 = MSE(y, y_pred)"
   ]
  },
  {
   "cell_type": "code",
   "execution_count": 94,
   "id": "f32ed5c0",
   "metadata": {},
   "outputs": [],
   "source": [
    "answers['Q1'] = [float(mod.coef_[1]), float(mse1)] # Remember to cast things to float rather than (e.g.) np.float64"
   ]
  },
  {
   "cell_type": "code",
   "execution_count": 95,
   "id": "1d905053",
   "metadata": {},
   "outputs": [
    {
     "data": {
      "text/plain": [
       "[0.0010422806169488943, 75735.70018272949]"
      ]
     },
     "execution_count": 95,
     "metadata": {},
     "output_type": "execute_result"
    }
   ],
   "source": [
    "answers['Q1']"
   ]
  },
  {
   "cell_type": "code",
   "execution_count": 96,
   "id": "7c0b7568",
   "metadata": {},
   "outputs": [],
   "source": [
    "assertFloatList(answers['Q1'], 2)"
   ]
  },
  {
   "cell_type": "markdown",
   "id": "6e26bb75",
   "metadata": {},
   "source": [
    "### Question 2\n",
    "Split your data into train and test portions with ratios 80/20, following the code in the stub. Train a\n",
    "model as in Q1 using the training set and report (a) its Mean Squared Error; (b) how often the model\n",
    "underpredicts (i.e., prediction less than label); and (c) how often the model overpredicts (i.e., prediction\n",
    "greater than label) (all quantities on test set)"
   ]
  },
  {
   "cell_type": "code",
   "execution_count": 97,
   "id": "99a2aba4",
   "metadata": {},
   "outputs": [],
   "source": [
    "dataTrain = dataset[:int(len(dataset)*0.8)]\n",
    "dataTest = dataset[int(len(dataset)*0.8):]"
   ]
  },
  {
   "cell_type": "code",
   "execution_count": 98,
   "id": "89ec0d0b-54be-4e77-9970-ce32d30c787a",
   "metadata": {},
   "outputs": [],
   "source": [
    "X_train = [[1, feat1(d)] for d in dataTrain]  # Only review length as the feature\n",
    "y_train = [d['hours'] for d in dataTrain]  # Target variable (hours played)"
   ]
  },
  {
   "cell_type": "code",
   "execution_count": 99,
   "id": "dc4c832a",
   "metadata": {},
   "outputs": [
    {
     "data": {
      "text/html": [
       "<style>#sk-container-id-4 {\n",
       "  /* Definition of color scheme common for light and dark mode */\n",
       "  --sklearn-color-text: black;\n",
       "  --sklearn-color-line: gray;\n",
       "  /* Definition of color scheme for unfitted estimators */\n",
       "  --sklearn-color-unfitted-level-0: #fff5e6;\n",
       "  --sklearn-color-unfitted-level-1: #f6e4d2;\n",
       "  --sklearn-color-unfitted-level-2: #ffe0b3;\n",
       "  --sklearn-color-unfitted-level-3: chocolate;\n",
       "  /* Definition of color scheme for fitted estimators */\n",
       "  --sklearn-color-fitted-level-0: #f0f8ff;\n",
       "  --sklearn-color-fitted-level-1: #d4ebff;\n",
       "  --sklearn-color-fitted-level-2: #b3dbfd;\n",
       "  --sklearn-color-fitted-level-3: cornflowerblue;\n",
       "\n",
       "  /* Specific color for light theme */\n",
       "  --sklearn-color-text-on-default-background: var(--sg-text-color, var(--theme-code-foreground, var(--jp-content-font-color1, black)));\n",
       "  --sklearn-color-background: var(--sg-background-color, var(--theme-background, var(--jp-layout-color0, white)));\n",
       "  --sklearn-color-border-box: var(--sg-text-color, var(--theme-code-foreground, var(--jp-content-font-color1, black)));\n",
       "  --sklearn-color-icon: #696969;\n",
       "\n",
       "  @media (prefers-color-scheme: dark) {\n",
       "    /* Redefinition of color scheme for dark theme */\n",
       "    --sklearn-color-text-on-default-background: var(--sg-text-color, var(--theme-code-foreground, var(--jp-content-font-color1, white)));\n",
       "    --sklearn-color-background: var(--sg-background-color, var(--theme-background, var(--jp-layout-color0, #111)));\n",
       "    --sklearn-color-border-box: var(--sg-text-color, var(--theme-code-foreground, var(--jp-content-font-color1, white)));\n",
       "    --sklearn-color-icon: #878787;\n",
       "  }\n",
       "}\n",
       "\n",
       "#sk-container-id-4 {\n",
       "  color: var(--sklearn-color-text);\n",
       "}\n",
       "\n",
       "#sk-container-id-4 pre {\n",
       "  padding: 0;\n",
       "}\n",
       "\n",
       "#sk-container-id-4 input.sk-hidden--visually {\n",
       "  border: 0;\n",
       "  clip: rect(1px 1px 1px 1px);\n",
       "  clip: rect(1px, 1px, 1px, 1px);\n",
       "  height: 1px;\n",
       "  margin: -1px;\n",
       "  overflow: hidden;\n",
       "  padding: 0;\n",
       "  position: absolute;\n",
       "  width: 1px;\n",
       "}\n",
       "\n",
       "#sk-container-id-4 div.sk-dashed-wrapped {\n",
       "  border: 1px dashed var(--sklearn-color-line);\n",
       "  margin: 0 0.4em 0.5em 0.4em;\n",
       "  box-sizing: border-box;\n",
       "  padding-bottom: 0.4em;\n",
       "  background-color: var(--sklearn-color-background);\n",
       "}\n",
       "\n",
       "#sk-container-id-4 div.sk-container {\n",
       "  /* jupyter's `normalize.less` sets `[hidden] { display: none; }`\n",
       "     but bootstrap.min.css set `[hidden] { display: none !important; }`\n",
       "     so we also need the `!important` here to be able to override the\n",
       "     default hidden behavior on the sphinx rendered scikit-learn.org.\n",
       "     See: https://github.com/scikit-learn/scikit-learn/issues/21755 */\n",
       "  display: inline-block !important;\n",
       "  position: relative;\n",
       "}\n",
       "\n",
       "#sk-container-id-4 div.sk-text-repr-fallback {\n",
       "  display: none;\n",
       "}\n",
       "\n",
       "div.sk-parallel-item,\n",
       "div.sk-serial,\n",
       "div.sk-item {\n",
       "  /* draw centered vertical line to link estimators */\n",
       "  background-image: linear-gradient(var(--sklearn-color-text-on-default-background), var(--sklearn-color-text-on-default-background));\n",
       "  background-size: 2px 100%;\n",
       "  background-repeat: no-repeat;\n",
       "  background-position: center center;\n",
       "}\n",
       "\n",
       "/* Parallel-specific style estimator block */\n",
       "\n",
       "#sk-container-id-4 div.sk-parallel-item::after {\n",
       "  content: \"\";\n",
       "  width: 100%;\n",
       "  border-bottom: 2px solid var(--sklearn-color-text-on-default-background);\n",
       "  flex-grow: 1;\n",
       "}\n",
       "\n",
       "#sk-container-id-4 div.sk-parallel {\n",
       "  display: flex;\n",
       "  align-items: stretch;\n",
       "  justify-content: center;\n",
       "  background-color: var(--sklearn-color-background);\n",
       "  position: relative;\n",
       "}\n",
       "\n",
       "#sk-container-id-4 div.sk-parallel-item {\n",
       "  display: flex;\n",
       "  flex-direction: column;\n",
       "}\n",
       "\n",
       "#sk-container-id-4 div.sk-parallel-item:first-child::after {\n",
       "  align-self: flex-end;\n",
       "  width: 50%;\n",
       "}\n",
       "\n",
       "#sk-container-id-4 div.sk-parallel-item:last-child::after {\n",
       "  align-self: flex-start;\n",
       "  width: 50%;\n",
       "}\n",
       "\n",
       "#sk-container-id-4 div.sk-parallel-item:only-child::after {\n",
       "  width: 0;\n",
       "}\n",
       "\n",
       "/* Serial-specific style estimator block */\n",
       "\n",
       "#sk-container-id-4 div.sk-serial {\n",
       "  display: flex;\n",
       "  flex-direction: column;\n",
       "  align-items: center;\n",
       "  background-color: var(--sklearn-color-background);\n",
       "  padding-right: 1em;\n",
       "  padding-left: 1em;\n",
       "}\n",
       "\n",
       "\n",
       "/* Toggleable style: style used for estimator/Pipeline/ColumnTransformer box that is\n",
       "clickable and can be expanded/collapsed.\n",
       "- Pipeline and ColumnTransformer use this feature and define the default style\n",
       "- Estimators will overwrite some part of the style using the `sk-estimator` class\n",
       "*/\n",
       "\n",
       "/* Pipeline and ColumnTransformer style (default) */\n",
       "\n",
       "#sk-container-id-4 div.sk-toggleable {\n",
       "  /* Default theme specific background. It is overwritten whether we have a\n",
       "  specific estimator or a Pipeline/ColumnTransformer */\n",
       "  background-color: var(--sklearn-color-background);\n",
       "}\n",
       "\n",
       "/* Toggleable label */\n",
       "#sk-container-id-4 label.sk-toggleable__label {\n",
       "  cursor: pointer;\n",
       "  display: block;\n",
       "  width: 100%;\n",
       "  margin-bottom: 0;\n",
       "  padding: 0.5em;\n",
       "  box-sizing: border-box;\n",
       "  text-align: center;\n",
       "}\n",
       "\n",
       "#sk-container-id-4 label.sk-toggleable__label-arrow:before {\n",
       "  /* Arrow on the left of the label */\n",
       "  content: \"▸\";\n",
       "  float: left;\n",
       "  margin-right: 0.25em;\n",
       "  color: var(--sklearn-color-icon);\n",
       "}\n",
       "\n",
       "#sk-container-id-4 label.sk-toggleable__label-arrow:hover:before {\n",
       "  color: var(--sklearn-color-text);\n",
       "}\n",
       "\n",
       "/* Toggleable content - dropdown */\n",
       "\n",
       "#sk-container-id-4 div.sk-toggleable__content {\n",
       "  max-height: 0;\n",
       "  max-width: 0;\n",
       "  overflow: hidden;\n",
       "  text-align: left;\n",
       "  /* unfitted */\n",
       "  background-color: var(--sklearn-color-unfitted-level-0);\n",
       "}\n",
       "\n",
       "#sk-container-id-4 div.sk-toggleable__content.fitted {\n",
       "  /* fitted */\n",
       "  background-color: var(--sklearn-color-fitted-level-0);\n",
       "}\n",
       "\n",
       "#sk-container-id-4 div.sk-toggleable__content pre {\n",
       "  margin: 0.2em;\n",
       "  border-radius: 0.25em;\n",
       "  color: var(--sklearn-color-text);\n",
       "  /* unfitted */\n",
       "  background-color: var(--sklearn-color-unfitted-level-0);\n",
       "}\n",
       "\n",
       "#sk-container-id-4 div.sk-toggleable__content.fitted pre {\n",
       "  /* unfitted */\n",
       "  background-color: var(--sklearn-color-fitted-level-0);\n",
       "}\n",
       "\n",
       "#sk-container-id-4 input.sk-toggleable__control:checked~div.sk-toggleable__content {\n",
       "  /* Expand drop-down */\n",
       "  max-height: 200px;\n",
       "  max-width: 100%;\n",
       "  overflow: auto;\n",
       "}\n",
       "\n",
       "#sk-container-id-4 input.sk-toggleable__control:checked~label.sk-toggleable__label-arrow:before {\n",
       "  content: \"▾\";\n",
       "}\n",
       "\n",
       "/* Pipeline/ColumnTransformer-specific style */\n",
       "\n",
       "#sk-container-id-4 div.sk-label input.sk-toggleable__control:checked~label.sk-toggleable__label {\n",
       "  color: var(--sklearn-color-text);\n",
       "  background-color: var(--sklearn-color-unfitted-level-2);\n",
       "}\n",
       "\n",
       "#sk-container-id-4 div.sk-label.fitted input.sk-toggleable__control:checked~label.sk-toggleable__label {\n",
       "  background-color: var(--sklearn-color-fitted-level-2);\n",
       "}\n",
       "\n",
       "/* Estimator-specific style */\n",
       "\n",
       "/* Colorize estimator box */\n",
       "#sk-container-id-4 div.sk-estimator input.sk-toggleable__control:checked~label.sk-toggleable__label {\n",
       "  /* unfitted */\n",
       "  background-color: var(--sklearn-color-unfitted-level-2);\n",
       "}\n",
       "\n",
       "#sk-container-id-4 div.sk-estimator.fitted input.sk-toggleable__control:checked~label.sk-toggleable__label {\n",
       "  /* fitted */\n",
       "  background-color: var(--sklearn-color-fitted-level-2);\n",
       "}\n",
       "\n",
       "#sk-container-id-4 div.sk-label label.sk-toggleable__label,\n",
       "#sk-container-id-4 div.sk-label label {\n",
       "  /* The background is the default theme color */\n",
       "  color: var(--sklearn-color-text-on-default-background);\n",
       "}\n",
       "\n",
       "/* On hover, darken the color of the background */\n",
       "#sk-container-id-4 div.sk-label:hover label.sk-toggleable__label {\n",
       "  color: var(--sklearn-color-text);\n",
       "  background-color: var(--sklearn-color-unfitted-level-2);\n",
       "}\n",
       "\n",
       "/* Label box, darken color on hover, fitted */\n",
       "#sk-container-id-4 div.sk-label.fitted:hover label.sk-toggleable__label.fitted {\n",
       "  color: var(--sklearn-color-text);\n",
       "  background-color: var(--sklearn-color-fitted-level-2);\n",
       "}\n",
       "\n",
       "/* Estimator label */\n",
       "\n",
       "#sk-container-id-4 div.sk-label label {\n",
       "  font-family: monospace;\n",
       "  font-weight: bold;\n",
       "  display: inline-block;\n",
       "  line-height: 1.2em;\n",
       "}\n",
       "\n",
       "#sk-container-id-4 div.sk-label-container {\n",
       "  text-align: center;\n",
       "}\n",
       "\n",
       "/* Estimator-specific */\n",
       "#sk-container-id-4 div.sk-estimator {\n",
       "  font-family: monospace;\n",
       "  border: 1px dotted var(--sklearn-color-border-box);\n",
       "  border-radius: 0.25em;\n",
       "  box-sizing: border-box;\n",
       "  margin-bottom: 0.5em;\n",
       "  /* unfitted */\n",
       "  background-color: var(--sklearn-color-unfitted-level-0);\n",
       "}\n",
       "\n",
       "#sk-container-id-4 div.sk-estimator.fitted {\n",
       "  /* fitted */\n",
       "  background-color: var(--sklearn-color-fitted-level-0);\n",
       "}\n",
       "\n",
       "/* on hover */\n",
       "#sk-container-id-4 div.sk-estimator:hover {\n",
       "  /* unfitted */\n",
       "  background-color: var(--sklearn-color-unfitted-level-2);\n",
       "}\n",
       "\n",
       "#sk-container-id-4 div.sk-estimator.fitted:hover {\n",
       "  /* fitted */\n",
       "  background-color: var(--sklearn-color-fitted-level-2);\n",
       "}\n",
       "\n",
       "/* Specification for estimator info (e.g. \"i\" and \"?\") */\n",
       "\n",
       "/* Common style for \"i\" and \"?\" */\n",
       "\n",
       ".sk-estimator-doc-link,\n",
       "a:link.sk-estimator-doc-link,\n",
       "a:visited.sk-estimator-doc-link {\n",
       "  float: right;\n",
       "  font-size: smaller;\n",
       "  line-height: 1em;\n",
       "  font-family: monospace;\n",
       "  background-color: var(--sklearn-color-background);\n",
       "  border-radius: 1em;\n",
       "  height: 1em;\n",
       "  width: 1em;\n",
       "  text-decoration: none !important;\n",
       "  margin-left: 1ex;\n",
       "  /* unfitted */\n",
       "  border: var(--sklearn-color-unfitted-level-1) 1pt solid;\n",
       "  color: var(--sklearn-color-unfitted-level-1);\n",
       "}\n",
       "\n",
       ".sk-estimator-doc-link.fitted,\n",
       "a:link.sk-estimator-doc-link.fitted,\n",
       "a:visited.sk-estimator-doc-link.fitted {\n",
       "  /* fitted */\n",
       "  border: var(--sklearn-color-fitted-level-1) 1pt solid;\n",
       "  color: var(--sklearn-color-fitted-level-1);\n",
       "}\n",
       "\n",
       "/* On hover */\n",
       "div.sk-estimator:hover .sk-estimator-doc-link:hover,\n",
       ".sk-estimator-doc-link:hover,\n",
       "div.sk-label-container:hover .sk-estimator-doc-link:hover,\n",
       ".sk-estimator-doc-link:hover {\n",
       "  /* unfitted */\n",
       "  background-color: var(--sklearn-color-unfitted-level-3);\n",
       "  color: var(--sklearn-color-background);\n",
       "  text-decoration: none;\n",
       "}\n",
       "\n",
       "div.sk-estimator.fitted:hover .sk-estimator-doc-link.fitted:hover,\n",
       ".sk-estimator-doc-link.fitted:hover,\n",
       "div.sk-label-container:hover .sk-estimator-doc-link.fitted:hover,\n",
       ".sk-estimator-doc-link.fitted:hover {\n",
       "  /* fitted */\n",
       "  background-color: var(--sklearn-color-fitted-level-3);\n",
       "  color: var(--sklearn-color-background);\n",
       "  text-decoration: none;\n",
       "}\n",
       "\n",
       "/* Span, style for the box shown on hovering the info icon */\n",
       ".sk-estimator-doc-link span {\n",
       "  display: none;\n",
       "  z-index: 9999;\n",
       "  position: relative;\n",
       "  font-weight: normal;\n",
       "  right: .2ex;\n",
       "  padding: .5ex;\n",
       "  margin: .5ex;\n",
       "  width: min-content;\n",
       "  min-width: 20ex;\n",
       "  max-width: 50ex;\n",
       "  color: var(--sklearn-color-text);\n",
       "  box-shadow: 2pt 2pt 4pt #999;\n",
       "  /* unfitted */\n",
       "  background: var(--sklearn-color-unfitted-level-0);\n",
       "  border: .5pt solid var(--sklearn-color-unfitted-level-3);\n",
       "}\n",
       "\n",
       ".sk-estimator-doc-link.fitted span {\n",
       "  /* fitted */\n",
       "  background: var(--sklearn-color-fitted-level-0);\n",
       "  border: var(--sklearn-color-fitted-level-3);\n",
       "}\n",
       "\n",
       ".sk-estimator-doc-link:hover span {\n",
       "  display: block;\n",
       "}\n",
       "\n",
       "/* \"?\"-specific style due to the `<a>` HTML tag */\n",
       "\n",
       "#sk-container-id-4 a.estimator_doc_link {\n",
       "  float: right;\n",
       "  font-size: 1rem;\n",
       "  line-height: 1em;\n",
       "  font-family: monospace;\n",
       "  background-color: var(--sklearn-color-background);\n",
       "  border-radius: 1rem;\n",
       "  height: 1rem;\n",
       "  width: 1rem;\n",
       "  text-decoration: none;\n",
       "  /* unfitted */\n",
       "  color: var(--sklearn-color-unfitted-level-1);\n",
       "  border: var(--sklearn-color-unfitted-level-1) 1pt solid;\n",
       "}\n",
       "\n",
       "#sk-container-id-4 a.estimator_doc_link.fitted {\n",
       "  /* fitted */\n",
       "  border: var(--sklearn-color-fitted-level-1) 1pt solid;\n",
       "  color: var(--sklearn-color-fitted-level-1);\n",
       "}\n",
       "\n",
       "/* On hover */\n",
       "#sk-container-id-4 a.estimator_doc_link:hover {\n",
       "  /* unfitted */\n",
       "  background-color: var(--sklearn-color-unfitted-level-3);\n",
       "  color: var(--sklearn-color-background);\n",
       "  text-decoration: none;\n",
       "}\n",
       "\n",
       "#sk-container-id-4 a.estimator_doc_link.fitted:hover {\n",
       "  /* fitted */\n",
       "  background-color: var(--sklearn-color-fitted-level-3);\n",
       "}\n",
       "</style><div id=\"sk-container-id-4\" class=\"sk-top-container\"><div class=\"sk-text-repr-fallback\"><pre>LinearRegression(fit_intercept=False)</pre><b>In a Jupyter environment, please rerun this cell to show the HTML representation or trust the notebook. <br />On GitHub, the HTML representation is unable to render, please try loading this page with nbviewer.org.</b></div><div class=\"sk-container\" hidden><div class=\"sk-item\"><div class=\"sk-estimator fitted sk-toggleable\"><input class=\"sk-toggleable__control sk-hidden--visually\" id=\"sk-estimator-id-4\" type=\"checkbox\" checked><label for=\"sk-estimator-id-4\" class=\"sk-toggleable__label fitted sk-toggleable__label-arrow fitted\">&nbsp;&nbsp;LinearRegression<a class=\"sk-estimator-doc-link fitted\" rel=\"noreferrer\" target=\"_blank\" href=\"https://scikit-learn.org/1.5/modules/generated/sklearn.linear_model.LinearRegression.html\">?<span>Documentation for LinearRegression</span></a><span class=\"sk-estimator-doc-link fitted\">i<span>Fitted</span></span></label><div class=\"sk-toggleable__content fitted\"><pre>LinearRegression(fit_intercept=False)</pre></div> </div></div></div></div>"
      ],
      "text/plain": [
       "LinearRegression(fit_intercept=False)"
      ]
     },
     "execution_count": 99,
     "metadata": {},
     "output_type": "execute_result"
    }
   ],
   "source": [
    "mod = LinearRegression(fit_intercept=False)\n",
    "mod.fit(X_train, y_train)"
   ]
  },
  {
   "cell_type": "code",
   "execution_count": 100,
   "id": "65e05b2d",
   "metadata": {},
   "outputs": [],
   "source": [
    "X_test = [[feat1(d)] for d in dataTest]\n",
    "y_test = [d['hours'] for d in dataTest]"
   ]
  },
  {
   "cell_type": "code",
   "execution_count": 101,
   "id": "f32ab10f",
   "metadata": {},
   "outputs": [],
   "source": [
    "X_test = [[1, feat1(d)] for d in dataTest]  # Ensure X_test has the correct number of features\n",
    "\n",
    "y_pred_test = mod.predict(X_test)\n",
    "\n",
    "mse2 = MSE(y_test, y_pred_test)  # Use the MSE function defined earlier"
   ]
  },
  {
   "cell_type": "code",
   "execution_count": 102,
   "id": "e0620a9b-f9e9-4c43-846d-5d66eb0254b8",
   "metadata": {},
   "outputs": [],
   "source": [
    "under = 0\n",
    "over = 0\n",
    "for actual, predicted in zip(y_test, y_pred_test):\n",
    "    if predicted < actual:\n",
    "        under += 1\n",
    "    elif predicted > actual:\n",
    "        over += 1"
   ]
  },
  {
   "cell_type": "code",
   "execution_count": 103,
   "id": "1a5d7a44",
   "metadata": {},
   "outputs": [],
   "source": [
    "answers['Q2'] = [mse2, under, over]"
   ]
  },
  {
   "cell_type": "code",
   "execution_count": 104,
   "id": "2b501f03",
   "metadata": {},
   "outputs": [
    {
     "data": {
      "text/plain": [
       "[76047.19578054463, 5249, 29751]"
      ]
     },
     "execution_count": 104,
     "metadata": {},
     "output_type": "execute_result"
    }
   ],
   "source": [
    "answers['Q2']"
   ]
  },
  {
   "cell_type": "code",
   "execution_count": 105,
   "id": "fad4744e",
   "metadata": {},
   "outputs": [],
   "source": [
    "assertFloatList(answers['Q2'], 3)"
   ]
  },
  {
   "cell_type": "markdown",
   "id": "a690f9b9",
   "metadata": {},
   "source": [
    "### Question 3\n",
    "You (probably) found that the model overpredicts much more often than it underpredicts. Let’s try to\n",
    "‘fix’ our model to correct this behavior. Attempt the following interventions:\n",
    "\n",
    "(a) Delete outliers from the training set. Specifically, keep only those instances with target values among\n",
    "the lowest 90% (among values in the training set).\n",
    "\n",
    "(b) Use the hours transformed variable as the target (i.e., log2\n",
    "(hours + 1)).\n",
    "\n",
    "(c) (Hard) Fit a model with parameters θ0 and θ1 (as in Q2) such that:\n",
    "\n",
    "• θ0 is the same value as in your solution to Q2\n",
    "\n",
    "• θ1 is chosen such that the prediction for the median review length in the training set is equal\n",
    "to the median number of hours. Hint: it is probably easiest to just solve this analytically, i.e., don’t try to use library function.\n",
    "(that is, θ1 is chosen such that your line passes through (0, θ0) and (median length, median hours))\n",
    "For each of the above interventions, report how many times the model overpredicts and underpredicts on\n",
    "the corresponding test set."
   ]
  },
  {
   "cell_type": "code",
   "execution_count": 106,
   "id": "8e524edb",
   "metadata": {},
   "outputs": [],
   "source": [
    "# Calculate the 90th percentile of hours in the training set\n",
    "y2 = y[:]\n",
    "y2.sort()\n",
    "perc90 = y2[int(len(y2) * 0.9)]  # 90th percentile threshold for hours"
   ]
  },
  {
   "cell_type": "code",
   "execution_count": 107,
   "id": "952d332b",
   "metadata": {},
   "outputs": [],
   "source": [
    "# 3a\n",
    "# Filter training data to exclude outliers\n",
    "X3a = []\n",
    "y3a = []\n",
    "for d in dataTrain:\n",
    "    if d['hours'] <= perc90:\n",
    "        X3a.append([1, feat1(d)])  # Only review length as feature\n",
    "        y3a.append(d['hours'])\n",
    "\n",
    "# Train the model with filtered data\n",
    "mod3a = LinearRegression(fit_intercept=False)\n",
    "mod3a.fit(X3a, y3a)\n",
    "\n",
    "# Make predictions on the test set\n",
    "pred3a = mod3a.predict(X_test)\n"
   ]
  },
  {
   "cell_type": "code",
   "execution_count": 108,
   "id": "90de762d-2a60-4e3b-ba47-8f8d71a7936e",
   "metadata": {},
   "outputs": [],
   "source": [
    "under3a = 0\n",
    "over3a = 0\n",
    "for actual, predicted in zip(y_test, pred3a):\n",
    "    if predicted < actual:\n",
    "        under3a += 1\n",
    "    elif predicted > actual:\n",
    "        over3a += 1"
   ]
  },
  {
   "cell_type": "code",
   "execution_count": 109,
   "id": "a6a7160f-3836-4a36-be1b-4bb928c08f2f",
   "metadata": {},
   "outputs": [],
   "source": [
    "# 3b\n",
    "# Apply log transformation to hours for the target in training data\n",
    "X3b = X_train  # Same features as before\n",
    "y3b = [np.log2(d['hours'] + 1) for d in dataTrain]\n",
    "\n",
    "# Train the model with transformed target\n",
    "mod3b = LinearRegression(fit_intercept=False)\n",
    "mod3b.fit(X3b, y3b)\n",
    "\n",
    "# Make predictions on the test set with the transformed target\n",
    "pred3b_log = mod3b.predict(X_test)\n",
    "\n",
    "# Transform predictions back to original scale\n",
    "pred3b = [2 ** pred - 1 for pred in pred3b_log]"
   ]
  },
  {
   "cell_type": "code",
   "execution_count": 110,
   "id": "74368f7c",
   "metadata": {},
   "outputs": [],
   "source": [
    "under3b = 0\n",
    "over3b = 0\n",
    "for actual, predicted in zip(y_test, pred3b):\n",
    "    if predicted < actual:\n",
    "        under3b += 1\n",
    "    elif predicted > actual:\n",
    "        over3b += 1\n"
   ]
  },
  {
   "cell_type": "code",
   "execution_count": 111,
   "id": "f50dd269-673b-4706-9d25-fb5a1ffdcfdc",
   "metadata": {},
   "outputs": [],
   "source": [
    "# 3c\n",
    "# Calculate median review length and median hours\n",
    "median_review_length = np.median([feat1(d) for d in dataTrain])\n",
    "median_hours = np.median([d['hours'] for d in dataTrain])\n",
    "\n",
    "# Use theta_0 from Q2\n",
    "theta_0 = mod.coef_[0] if hasattr(mod, 'coef_') else 0  # Replace this with Q2's intercept\n",
    "\n",
    "# Calculate theta_1 analytically\n",
    "theta_1_custom = (median_hours - theta_0) / median_review_length\n",
    "\n",
    "# Make predictions with custom theta values\n",
    "pred3c = [theta_0 + theta_1_custom * feat1(d) for d in dataTest]\n"
   ]
  },
  {
   "cell_type": "code",
   "execution_count": 112,
   "id": "11cd6c17",
   "metadata": {},
   "outputs": [],
   "source": [
    "under3c = 0\n",
    "over3c = 0\n",
    "for actual, predicted in zip(y_test, pred3c):\n",
    "    if predicted < actual:\n",
    "        under3c += 1\n",
    "    elif predicted > actual:\n",
    "        over3c += 1"
   ]
  },
  {
   "cell_type": "code",
   "execution_count": 113,
   "id": "017eeef8-6a78-4872-b6b5-b297abe6213c",
   "metadata": {},
   "outputs": [],
   "source": [
    "answers['Q3'] = [under3a, over3a, under3b, over3b, under3c, over3c]"
   ]
  },
  {
   "cell_type": "code",
   "execution_count": 114,
   "id": "b63fc022",
   "metadata": {},
   "outputs": [
    {
     "data": {
      "text/plain": [
       "[13084, 21916, 15941, 19059, 20808, 14192]"
      ]
     },
     "execution_count": 114,
     "metadata": {},
     "output_type": "execute_result"
    }
   ],
   "source": [
    "answers['Q3']"
   ]
  },
  {
   "cell_type": "code",
   "execution_count": 115,
   "id": "c3e8c251-70ea-4213-a384-f684476772e9",
   "metadata": {},
   "outputs": [],
   "source": [
    "assertFloatList(answers['Q3'], 6)"
   ]
  },
  {
   "cell_type": "markdown",
   "id": "b12fff99",
   "metadata": {},
   "source": [
    "## Section 2: Classification"
   ]
  },
  {
   "cell_type": "markdown",
   "id": "15645595-b793-42ae-bf08-51ed4aa11b90",
   "metadata": {},
   "source": [
    "### Question 4\n",
    "Following the training/test splits you used in Q2, solve the same problem using a classifier, \n",
    "\n",
    "i.e., use review length to predict whether the time played is above the median.\n",
    "\n",
    " Use a linear model.LogisticRegression\n",
    "\n",
    "model with a regularization strength of C = 1. \n",
    "\n",
    "Report (a) the number of True Positives; (b) the number\n",
    "of True Negatives; (c) the number of False Positives; (d) the number of False Negatives; and (e) the\n",
    "Balanced Error Rate (BER) of the classifier on the test set"
   ]
  },
  {
   "cell_type": "code",
   "execution_count": 116,
   "id": "f5d5d3c9",
   "metadata": {},
   "outputs": [],
   "source": [
    "# use review length to predict whether the time played is above the median.\n",
    "median_hours = np.median([d['hours'] for d in dataTrain])"
   ]
  },
  {
   "cell_type": "code",
   "execution_count": 117,
   "id": "d6cfd227",
   "metadata": {},
   "outputs": [],
   "source": [
    "# model with a regularization strength of C = 1\n",
    "y = [1 if d['hours'] > median_hours else 0 for d in dataTrain]  # Training target\n",
    "ytest = [1 if d['hours'] > median_hours else 0 for d in dataTest]  # Test target\n"
   ]
  },
  {
   "cell_type": "code",
   "execution_count": 118,
   "id": "efb27cd5",
   "metadata": {},
   "outputs": [],
   "source": [
    "# redefine X and Xtest\n",
    "# X was in dataset\n",
    "X = [[feat1(d)] for d in dataTrain]      # Training features\n",
    "Xtest = [[feat1(d)] for d in dataTest]   # Test features"
   ]
  },
  {
   "cell_type": "code",
   "execution_count": 119,
   "id": "0968ced0-1b35-4032-b4bf-ee4d0c32182f",
   "metadata": {},
   "outputs": [],
   "source": [
    "mod = linear_model.LogisticRegression()\n",
    "mod.fit(X,y)\n",
    "predictions = mod.predict(Xtest) # Binary vector of predictions"
   ]
  },
  {
   "cell_type": "code",
   "execution_count": 120,
   "id": "82e3f6ec-8911-4249-927e-c78dc891197f",
   "metadata": {},
   "outputs": [],
   "source": [
    "from sklearn.metrics import confusion_matrix\n",
    "\n",
    "# Calculate confusion matrix elements\n",
    "TN, FP, FN, TP = confusion_matrix(ytest, predictions).ravel()\n",
    "\n",
    "# Balanced Error Rate (BER) calculation\n",
    "BER = 0.5 * (FP / (FP + TN) + FN / (FN + TP))\n"
   ]
  },
  {
   "cell_type": "code",
   "execution_count": 121,
   "id": "33548639-8b44-402d-940f-256ace3e35bf",
   "metadata": {},
   "outputs": [],
   "source": [
    "answers['Q4'] = [TP, TN, FP, FN, BER]"
   ]
  },
  {
   "cell_type": "code",
   "execution_count": 122,
   "id": "0f84db10",
   "metadata": {},
   "outputs": [
    {
     "data": {
      "text/plain": [
       "[4525, 13909, 3641, 12925, 0.474076033273741]"
      ]
     },
     "execution_count": 122,
     "metadata": {},
     "output_type": "execute_result"
    }
   ],
   "source": [
    "answers['Q4']"
   ]
  },
  {
   "cell_type": "code",
   "execution_count": 123,
   "id": "87e91291-ab44-49b9-8965-9ac820877740",
   "metadata": {},
   "outputs": [],
   "source": [
    "assertFloatList(answers['Q4'], 5)"
   ]
  },
  {
   "cell_type": "markdown",
   "id": "b357a12a-a71c-4562-a407-5fdaaece6a46",
   "metadata": {},
   "source": [
    "### Question 5\n",
    "Using the same model, report\n",
    "\n",
    "• How often the model overpredicts (i.e., predicts ‘above median’ when the target is below the median).Just report the number of overpredctions rather than e.g. the rate; the autograder will accept answers roughly in the correct\n",
    "range\n",
    "\n",
    "• How often the model underpredicts (i.e., predicts ‘below median’ when the target is above the\n",
    "median). Hint: rather than computing these values manually, they can be expressed in terms of rates (true positives, true negatives,\n",
    "etc.)."
   ]
  },
  {
   "cell_type": "code",
   "execution_count": 124,
   "id": "9094734d-209b-44ac-8459-2bcbc8d25e35",
   "metadata": {},
   "outputs": [],
   "source": [
    "answers['Q5'] = [FP, FN] #[overpredicts, underpredicts]"
   ]
  },
  {
   "cell_type": "code",
   "execution_count": 125,
   "id": "c5574082",
   "metadata": {},
   "outputs": [
    {
     "data": {
      "text/plain": [
       "[3641, 12925]"
      ]
     },
     "execution_count": 125,
     "metadata": {},
     "output_type": "execute_result"
    }
   ],
   "source": [
    "answers['Q5']"
   ]
  },
  {
   "cell_type": "code",
   "execution_count": 126,
   "id": "3d05f199-a588-44f8-9ea5-5764b957e417",
   "metadata": {},
   "outputs": [],
   "source": [
    "assertFloatList(answers['Q5'], 2)"
   ]
  },
  {
   "cell_type": "markdown",
   "id": "8b4a2fd5-6773-4bc2-90ee-faeb629c6823",
   "metadata": {},
   "source": [
    "### Question 6\n",
    "The dataset spans years from 2010-2018 (the year of each entry can be found by taking int(d[‘date’][:4])).\n",
    "\n",
    "Using the same type of model as in Q4, compute the BER for:\n",
    "\n",
    "(a) those reviews written in 2014 or earlier.\n",
    "\n",
    "(b) those reviews written in 2015 or later.\n",
    "\n",
    "(c) How well does a model trained only on reviews written in 2014 or earlier (i.e., as a training set)\n",
    "perform on reviews written in 2015 or later (i.e., as a test set)?\n",
    "\n",
    "(d) How well does a model trained only on reviews written in 2015 or later perform on reviews written\n",
    "in 2014 or earlier?\n",
    "\n",
    "(all models should be trained using (an appropriate fraction of) the training set and evaluated using (an appropriate fraction of) the test set)"
   ]
  },
  {
   "cell_type": "code",
   "execution_count": 127,
   "id": "8d94ea9d",
   "metadata": {},
   "outputs": [],
   "source": [
    "# Helper function to compute BER given a model and test data\n",
    "def compute_ber(model, X_test, y_test):\n",
    "    predictions = model.predict(X_test)\n",
    "    TN, FP, FN, TP = confusion_matrix(y_test, predictions).ravel()\n",
    "    BER = 0.5 * (FP / (FP + TN) + FN / (FN + TP))\n",
    "    return BER"
   ]
  },
  {
   "cell_type": "code",
   "execution_count": 128,
   "id": "01bd99c6-acc7-4d85-81a1-9da9a14bd40f",
   "metadata": {},
   "outputs": [],
   "source": [
    "# (a) those reviews written in 2014 or earlier.\n",
    "X2014 = [[feat1(d)] for d in dataTrain if int(d['date'][:4]) <= 2014]\n",
    "y2014 = [1 if d['hours'] > median_hours else 0 for d in dataTrain if int(d['date'][:4]) <= 2014]\n",
    "X2014test = [[feat1(d)] for d in dataTest if int(d['date'][:4]) <= 2014]\n",
    "y2014test = [1 if d['hours'] > median_hours else 0 for d in dataTest if int(d['date'][:4]) <= 2014]\n"
   ]
  },
  {
   "cell_type": "code",
   "execution_count": 129,
   "id": "c69b8cf1",
   "metadata": {},
   "outputs": [],
   "source": [
    "# model trained only on reviews written in 2014 \n",
    "model_2014 = LogisticRegression(C=1, fit_intercept=True)\n",
    "model_2014.fit(X2014, y2014)\n",
    "BER_A = compute_ber(model_2014, X2014test, y2014test)"
   ]
  },
  {
   "cell_type": "code",
   "execution_count": 130,
   "id": "c3aee3be-0de4-4087-b8fa-ccd825604690",
   "metadata": {},
   "outputs": [],
   "source": [
    "# (b) those reviews written in 2015 or later.\n",
    "X2015 = [[feat1(d)] for d in dataTrain if int(d['date'][:4]) >= 2015]\n",
    "y2015 = [1 if d['hours'] > median_hours else 0 for d in dataTrain if int(d['date'][:4]) >= 2015]\n",
    "X2015test = [[feat1(d)] for d in dataTest if int(d['date'][:4]) >= 2015]\n",
    "y2015test = [1 if d['hours'] > median_hours else 0 for d in dataTest if int(d['date'][:4]) >= 2015]"
   ]
  },
  {
   "cell_type": "code",
   "execution_count": 131,
   "id": "3860f1e7",
   "metadata": {},
   "outputs": [],
   "source": [
    "# model trained only on reviews written in 2015\n",
    "model_2015 = LogisticRegression(C=1, fit_intercept=True)\n",
    "model_2015.fit(X2015, y2015)\n",
    "BER_B = compute_ber(model_2015, X2015test, y2015test)"
   ]
  },
  {
   "cell_type": "code",
   "execution_count": 132,
   "id": "6c25ce8b",
   "metadata": {},
   "outputs": [],
   "source": [
    "# Part (c): Train on 2014 or earlier, test on 2015 or later\n",
    "BER_C = compute_ber(model_2014, X2015test, y2015test)\n",
    "\n",
    "# Part (d): Train on 2015 or later, test on 2014 or earlier\n",
    "BER_D = compute_ber(model_2015, X2014test, y2014test)"
   ]
  },
  {
   "cell_type": "code",
   "execution_count": 133,
   "id": "77349259-dc23-4051-a7af-d8becaf9a0a8",
   "metadata": {},
   "outputs": [],
   "source": [
    "answers['Q6'] = [BER_A, BER_B, BER_C, BER_D]"
   ]
  },
  {
   "cell_type": "code",
   "execution_count": 134,
   "id": "92997cd8",
   "metadata": {},
   "outputs": [
    {
     "data": {
      "text/plain": [
       "[0.4799670470952742,\n",
       " 0.47394608476712863,\n",
       " 0.4820528229832485,\n",
       " 0.4722496441821391]"
      ]
     },
     "execution_count": 134,
     "metadata": {},
     "output_type": "execute_result"
    }
   ],
   "source": [
    "answers['Q6']"
   ]
  },
  {
   "cell_type": "code",
   "execution_count": 135,
   "id": "a6530d65-871b-40bc-8bd5-7b1f64e00402",
   "metadata": {},
   "outputs": [],
   "source": [
    "assertFloatList(answers['Q6'], 4)"
   ]
  },
  {
   "cell_type": "markdown",
   "id": "bd33d76d",
   "metadata": {},
   "source": [
    "## Section 3: Recommendation\n",
    "For these questions you should use the first 80% of samples as a training set and the last 20% as a test set,\n",
    "i.e., the same splits as we constructed in previous questions."
   ]
  },
  {
   "cell_type": "markdown",
   "id": "3b4c89bb-4a6e-4ff4-8178-a8519bb72151",
   "metadata": {},
   "source": [
    "### Question 7\n",
    "Using the training set, compute the 10 users most similar to first user in the dataset (i.e., the user from\n",
    "the first entry) in terms of Jaccard similarity. Report the Jaccard similarity of the first and tenth most\n",
    "similar users"
   ]
  },
  {
   "cell_type": "code",
   "execution_count": 136,
   "id": "0a7f0b9c-307d-4376-aabc-300882bb71f6",
   "metadata": {},
   "outputs": [],
   "source": [
    "usersPerItem = defaultdict(set) # Maps an item to the users who rated it\n",
    "itemsPerUser = defaultdict(set) # Maps a user to the items that they rated\n",
    "reviewsPerUser = defaultdict(list)\n",
    "reviewsPerItem = defaultdict(list)\n",
    "\n",
    "for d in dataTrain:\n",
    "    user = d['userID']\n",
    "    item = d['gameID']\n",
    "    usersPerItem[item].add(user)\n",
    "    itemsPerUser[user].add(item)"
   ]
  },
  {
   "cell_type": "code",
   "execution_count": 137,
   "id": "8c59b51b-4d40-489f-8f02-6c7b646be571",
   "metadata": {},
   "outputs": [],
   "source": [
    "# Identify the first user in the dataset\n",
    "first_user = dataTrain[0]['userID']\n",
    "first_user_items = itemsPerUser[first_user]\n",
    "\n",
    "# Compute Jaccard similarity between the first user and every other user\n",
    "jaccard_similarities = []\n",
    "for user, user_items in itemsPerUser.items():\n",
    "    if user != first_user:\n",
    "        # Calculate Jaccard similarity\n",
    "        intersection = first_user_items.intersection(user_items)\n",
    "        union = first_user_items.union(user_items)\n",
    "        jaccard_similarity = len(intersection) / len(union) if union else 0\n",
    "        jaccard_similarities.append((jaccard_similarity, user))\n"
   ]
  },
  {
   "cell_type": "code",
   "execution_count": 138,
   "id": "fc145b88",
   "metadata": {},
   "outputs": [],
   "source": [
    "# Sort users by Jaccard similarity in descending order\n",
    "jaccard_similarities.sort(reverse=True, key=lambda x: x[0])\n",
    "\n",
    "# Retrieve the top 10 most similar users\n",
    "top_10_similarities = jaccard_similarities[:10]\n",
    "\n",
    "# Extract the Jaccard similarities for the first and tenth most similar users\n",
    "first = top_10_similarities[0][0]\n",
    "tenth = top_10_similarities[9][0]"
   ]
  },
  {
   "cell_type": "code",
   "execution_count": 139,
   "id": "c40046cf-4900-4efb-b161-60e62dd0705f",
   "metadata": {},
   "outputs": [],
   "source": [
    "answers['Q7'] = [first, tenth]"
   ]
  },
  {
   "cell_type": "code",
   "execution_count": 140,
   "id": "828c5815",
   "metadata": {},
   "outputs": [
    {
     "data": {
      "text/plain": [
       "[0.10909090909090909, 0.08235294117647059]"
      ]
     },
     "execution_count": 140,
     "metadata": {},
     "output_type": "execute_result"
    }
   ],
   "source": [
    "answers['Q7']"
   ]
  },
  {
   "cell_type": "code",
   "execution_count": 141,
   "id": "a2943745-40c5-44ae-9464-89603b0b62f0",
   "metadata": {},
   "outputs": [],
   "source": [
    "assertFloatList(answers['Q7'], 2)"
   ]
  },
  {
   "cell_type": "markdown",
   "id": "de1c320a-37b2-42e3-9362-4294b31047f9",
   "metadata": {},
   "source": [
    "### Question 8\n",
    "Implement a function to predict hours transformed from based on a weighted average of Jaccard similarities, \n",
    "\n",
    "i.e.,: hours transformed(u, i) = P v∈Ui Rv,i · Sim(u, v) P v∈Ui Sim(u, v). \n",
    "\n",
    "Implement two versions, one based on the similarity user-to-user similarity (i.e., as in the above equation)\n",
    "and one based on item-to-item similarity. Handle ‘edge cases’ (unseen user/item or zero denominator)\n",
    "by returning the global average (on the training set). Report the MSE of each predictor on the test set.\n",
    "\n",
    "Note: a correct implementation should run in less than a minute."
   ]
  },
  {
   "cell_type": "code",
   "execution_count": 142,
   "id": "358db1e9-d9ad-432e-a233-74dc1ab44279",
   "metadata": {},
   "outputs": [],
   "source": [
    "usersPerItem = defaultdict(set)  # Maps item to set of users who reviewed it\n",
    "itemsPerUser = defaultdict(set)  # Maps user to set of items they reviewed\n",
    "hoursTransformedPerUserItem = {}  # Stores hours.transformed for each (user, item) pair"
   ]
  },
  {
   "cell_type": "code",
   "execution_count": 143,
   "id": "a985dd79",
   "metadata": {},
   "outputs": [],
   "source": [
    "# Populate the mappings with training data\n",
    "for d in dataTrain:\n",
    "    user = d['userID']\n",
    "    item = d['gameID']\n",
    "    hours_transformed = d['hours_transformed']\n",
    "    \n",
    "    usersPerItem[item].add(user)\n",
    "    itemsPerUser[user].add(item)\n",
    "    hoursTransformedPerUserItem[(user, item)] = hours_transformed"
   ]
  },
  {
   "cell_type": "code",
   "execution_count": 144,
   "id": "d3c59b8e",
   "metadata": {},
   "outputs": [],
   "source": [
    "# Compute the global average of hours.transformed in the training set (for edge cases)\n",
    "global_avg = sum(hoursTransformedPerUserItem.values()) / len(hoursTransformedPerUserItem)\n",
    "\n",
    "# Helper function to calculate Jaccard similarity\n",
    "def jaccard_similarity(set1, set2):\n",
    "    intersection = set1.intersection(set2)\n",
    "    union = set1.union(set2)\n",
    "    return len(intersection) / len(union) if union else 0\n",
    "\n",
    "# User-to-User Prediction Function\n",
    "def predict_user_based(user, item):\n",
    "    if item not in usersPerItem or user not in itemsPerUser:\n",
    "        return global_avg\n",
    "    \n",
    "    numerator = 0.0\n",
    "    denominator = 0.0\n",
    "    for other_user in usersPerItem[item]:\n",
    "        if other_user == user:\n",
    "            continue\n",
    "        sim = jaccard_similarity(itemsPerUser[user], itemsPerUser[other_user])\n",
    "        if sim > 0:\n",
    "            numerator += hoursTransformedPerUserItem[(other_user, item)] * sim\n",
    "            denominator += sim\n",
    "    return numerator / denominator if denominator != 0 else global_avg\n"
   ]
  },
  {
   "cell_type": "code",
   "execution_count": 145,
   "id": "e72c080b",
   "metadata": {},
   "outputs": [],
   "source": [
    "# Item-to-Item Prediction Function\n",
    "def predict_item_based(user, item):\n",
    "    if user not in itemsPerUser or item not in usersPerItem:\n",
    "        return global_avg\n",
    "\n",
    "    numerator = 0.0\n",
    "    denominator = 0.0\n",
    "    for other_item in itemsPerUser[user]:\n",
    "        if other_item == item:\n",
    "            continue\n",
    "        sim = jaccard_similarity(usersPerItem[item], usersPerItem[other_item])\n",
    "        if sim > 0:\n",
    "            numerator += hoursTransformedPerUserItem.get((user, other_item), 0) * sim\n",
    "            denominator += sim\n",
    "    return numerator / denominator if denominator != 0 else global_avg"
   ]
  },
  {
   "cell_type": "code",
   "execution_count": 146,
   "id": "e6a61179",
   "metadata": {},
   "outputs": [],
   "source": [
    "# Predict and calculate MSE for user-based and item-based predictors\n",
    "user_based_predictions = []\n",
    "item_based_predictions = []\n",
    "true_values = []\n",
    "\n",
    "for d in dataTest:\n",
    "    user = d['userID']\n",
    "    item = d['gameID']\n",
    "    true_value = d['hours_transformed']\n",
    "    \n",
    "    # Get predictions from both methods\n",
    "    user_pred = predict_user_based(user, item)\n",
    "    item_pred = predict_item_based(user, item)\n",
    "    \n",
    "    user_based_predictions.append(user_pred)\n",
    "    item_based_predictions.append(item_pred)\n",
    "    true_values.append(true_value)"
   ]
  },
  {
   "cell_type": "code",
   "execution_count": 147,
   "id": "924c20d9",
   "metadata": {},
   "outputs": [],
   "source": [
    "# Calculate MSE for both approaches\n",
    "MSEU = mean_squared_error(true_values, user_based_predictions)\n",
    "MSEI = mean_squared_error(true_values, item_based_predictions)"
   ]
  },
  {
   "cell_type": "code",
   "execution_count": 148,
   "id": "55d2d046-6faa-4a73-ae47-f013aaa51d56",
   "metadata": {},
   "outputs": [],
   "source": [
    "answers['Q8'] = [MSEU, MSEI]"
   ]
  },
  {
   "cell_type": "code",
   "execution_count": 149,
   "id": "2d629dd4",
   "metadata": {},
   "outputs": [
    {
     "data": {
      "text/plain": [
       "[3.2810768459411728, 4.915274596519422]"
      ]
     },
     "execution_count": 149,
     "metadata": {},
     "output_type": "execute_result"
    }
   ],
   "source": [
    "answers['Q8']"
   ]
  },
  {
   "cell_type": "code",
   "execution_count": 150,
   "id": "ecffcfba-394a-4b79-be85-c7c5ca7a3d23",
   "metadata": {},
   "outputs": [],
   "source": [
    "assertFloatList(answers['Q8'], 2)"
   ]
  },
  {
   "cell_type": "markdown",
   "id": "2adb115b-2007-47a6-a29f-096f287cf434",
   "metadata": {},
   "source": [
    "### Question 9\n",
    "Adjust your definition above so that the similarity weights recent actions more highly. Use the similarity\n",
    "function hours transformed(u, i) = P v∈Ui Rv,i · Sim(u, v) · e −|y(u,i)−y(v,i)| P v∈Ui Sim(u, v) · e−|y(u,i)−y(v,i)|\n",
    ", where y(u, i) is the (integer) year in which the review occurred "
   ]
  },
  {
   "cell_type": "code",
   "execution_count": 151,
   "id": "7390a8c0",
   "metadata": {},
   "outputs": [],
   "source": [
    "ht_PerUser = defaultdict(list)\n",
    "ht_PerItem = defaultdict(list)\n",
    "ht_ofUser = defaultdict(list)\n",
    "ht_ofItem = defaultdict(list)\n",
    "years = defaultdict(int)\n",
    "ht = {}  # To retrieve a rating for a specific user/item pair\n",
    "\n",
    "for d in dataTrain:\n",
    "    user, game = d['userID'], d['gameID']\n",
    "    ht_PerUser[user].append(d)\n",
    "    ht_PerItem[game].append(d)\n",
    "    ht_ofUser[user].append(d['hours_transformed'])\n",
    "    ht_ofItem[game].append(d['hours_transformed'])\n",
    "    years[user, game] = int(d['date'][:4])\n",
    "    ht[(user, game)] = d['hours_transformed']\n",
    "    \n",
    "htMean = sum([d['hours_transformed'] for d in dataTrain]) / len(dataTrain)"
   ]
  },
  {
   "cell_type": "code",
   "execution_count": 152,
   "id": "3e5096ac",
   "metadata": {},
   "outputs": [],
   "source": [
    "def jaccard_similarity(set1, set2):\n",
    "    intersection = set1.intersection(set2)\n",
    "    union = set1.union(set2)\n",
    "    return len(intersection) / len(union) if union else 0"
   ]
  },
  {
   "cell_type": "code",
   "execution_count": 153,
   "id": "a8280653",
   "metadata": {},
   "outputs": [],
   "source": [
    "# Prediction function for Question 9 with time decay\n",
    "def predict_ht(user, game, year):\n",
    "    ht = []\n",
    "    similarities = []\n",
    "    ydiff = []\n",
    "    \n",
    "    for d in ht_PerItem[game]:\n",
    "        u2 = d['userID']\n",
    "        if u2 == user:\n",
    "            continue\n",
    "        ht.append(d['hours_transformed'])\n",
    "        \n",
    "        # Calculate the year difference and decay factor\n",
    "        year_diff = abs(year - int(d['date'][:4]))\n",
    "        ydiff.append(math.exp(-year_diff))\n",
    "        \n",
    "        # Calculate Jaccard similarity between `user` and `u2`\n",
    "        sim = jaccard_similarity(itemsPerUser[user], itemsPerUser[u2])\n",
    "        similarities.append(sim)\n",
    "    \n",
    "    # Compute the weighted prediction if similarities are non-zero\n",
    "    if sum(similarities) > 0:\n",
    "        weighted_ht = [(x * y * z) for x, y, z in zip(ht, similarities, ydiff)]\n",
    "        denom = [(y * z) for y, z in zip(similarities, ydiff)]\n",
    "        return sum(weighted_ht) / sum(denom) if sum(denom) != 0 else htMean\n",
    "    else:\n",
    "        return htMean"
   ]
  },
  {
   "cell_type": "code",
   "execution_count": 154,
   "id": "cf245cda",
   "metadata": {},
   "outputs": [],
   "source": [
    "# Calculate predictions for the test set and MSE for Q9\n",
    "sim_predict_set_user = [predict_ht(d['userID'], d['gameID'], int(d['date'][:4])) for d in dataTest]\n",
    "labels = [d['hours_transformed'] for d in dataTest]\n",
    "MSE9 = mean_squared_error(labels, sim_predict_set_user)\n",
    "answers['Q9'] = MSE9"
   ]
  },
  {
   "cell_type": "code",
   "execution_count": 155,
   "id": "37f28189",
   "metadata": {},
   "outputs": [
    {
     "data": {
      "text/plain": [
       "3.310021092937094"
      ]
     },
     "execution_count": 155,
     "metadata": {},
     "output_type": "execute_result"
    }
   ],
   "source": [
    "answers['Q9']"
   ]
  },
  {
   "cell_type": "code",
   "execution_count": 156,
   "id": "17374d80-9ab3-4877-845e-836524d8aa66",
   "metadata": {},
   "outputs": [],
   "source": [
    "assertFloat(answers['Q9'])"
   ]
  },
  {
   "cell_type": "code",
   "execution_count": 157,
   "id": "de71bdd6-92d8-430d-b419-7e37e3ddc701",
   "metadata": {},
   "outputs": [],
   "source": [
    "if \"float\" in str(answers) or \"int\" in str(answers):\n",
    "    print(\"it seems that some of your answers are not native python ints/floats;\")\n",
    "    print(\"the autograder will not be able to read your solution unless you convert them to ints/floats\")"
   ]
  },
  {
   "cell_type": "code",
   "execution_count": 158,
   "id": "d3fb9831-179f-4354-b4f0-48a4ea5b767c",
   "metadata": {},
   "outputs": [],
   "source": [
    "f = open(\"answers_midterm.txt\", 'w')\n",
    "f.write(str(answers) + '\\n')\n",
    "f.close()"
   ]
  },
  {
   "cell_type": "code",
   "execution_count": null,
   "id": "b53acc41",
   "metadata": {},
   "outputs": [],
   "source": []
  }
 ],
 "metadata": {
  "kernelspec": {
   "display_name": "base",
   "language": "python",
   "name": "python3"
  },
  "language_info": {
   "codemirror_mode": {
    "name": "ipython",
    "version": 3
   },
   "file_extension": ".py",
   "mimetype": "text/x-python",
   "name": "python",
   "nbconvert_exporter": "python",
   "pygments_lexer": "ipython3",
   "version": "3.11.9"
  }
 },
 "nbformat": 4,
 "nbformat_minor": 5
}
